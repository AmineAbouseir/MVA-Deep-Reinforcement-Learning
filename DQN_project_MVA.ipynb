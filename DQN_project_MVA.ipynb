{
 "cells": [
  {
   "cell_type": "markdown",
   "metadata": {
    "colab_type": "text",
    "id": "FVwvCauq1kW3"
   },
   "source": [
    "**You may need to install [OpenCV](https://pypi.python.org/pypi/opencv-python) and [scikit-video](http://www.scikit-video.org/stable/).**"
   ]
  },
  {
   "cell_type": "code",
   "execution_count": 1,
   "metadata": {
    "colab": {
     "base_uri": "https://localhost:8080/",
     "height": 148
    },
    "colab_type": "code",
    "id": "i_6jVRJt1kXc",
    "outputId": "2070581b-5d7a-47f6-dbe6-e6a6071a30bd"
   },
   "outputs": []
   ,
   "source": [
    "import keras\n",
    "import numpy as np\n",
    "import io\n",
    "import base64\n",
    "from IPython.display import HTML\n",
    "import skvideo.io\n",
    "import cv2\n",
    "import json\n",
    "\n",
    "from keras.models import Sequential, model_from_json\n",
    "from keras.layers.core import Dense, Flatten\n",
    "from keras.optimizers import sgd\n",
    "from keras.layers import Conv2D, MaxPooling2D, Activation, AveragePooling2D, Reshape, BatchNormalization\n",
    "\n",
    "import warnings\n",
    "warnings.filterwarnings('ignore')"
   ]
  },
  {
   "cell_type": "markdown",
   "metadata": {
    "colab_type": "text",
    "id": "AGISvOq31kYz"
   },
   "source": [
    "# MiniProject on Deep Reinforcement Learning"
   ]
  },
  {
   "cell_type": "markdown",
   "metadata": {
    "colab_type": "text",
    "id": "8G-9navT1kZC"
   },
   "source": [
    "__Notations__: $E_p$ is the expectation under probability $p$. Please justify each of your answer and widely comment your code."
   ]
  },
  {
   "cell_type": "markdown",
   "metadata": {
    "colab_type": "text",
    "id": "m5mGz_051kZS"
   },
   "source": [
    "# Context"
   ]
  },
  {
   "cell_type": "markdown",
   "metadata": {
    "colab_type": "text",
    "id": "VIMS5C581kZl"
   },
   "source": [
    "In a reinforcement learning algorithm, we modelize each step $t$ as an action $a_t$ obtained from a state $s_t$, i.e. $\\{(a_{t},s_{t})_{t\\leq T}\\}$ having the Markov property. We consider a discount factor $\\gamma \\in [0,1]$ that ensures convergence. The goal is to find among all the policies $\\pi$, one that maximizes the expected reward:\n",
    "\n",
    "\\begin{equation*}\n",
    "R(\\pi)=\\sum_{t\\leq T}E_{p^{\\pi}}[\\gamma^t r(s_{t},a_{t})] \\> ,\n",
    "\\end{equation*}\n",
    "\n",
    "where: \n",
    "\\begin{equation*}p^{\\pi}(a_{0},a_{1},s_{1},...,a_{T},s_{T})=p(a_{0})\\prod_{t=1}^{T}\\pi(a_{t}|s_{t})p(s_{t+1}|s_{t},a_{t}) \\> .\n",
    "\\end{equation*}\n",
    "\n",
    "We note the $Q$-function:\n",
    "\n",
    "\\begin{equation*}Q^\\pi(s,a)=E_{p^{\\pi}}[\\sum_{t\\leq T}\\gamma^{t}r(s_{t},a_{t})|s_{0}=s,a_{0}=a] \\> .\n",
    "\\end{equation*}\n",
    "\n",
    "Thus, the optimal Q function is:\n",
    "\\begin{equation*}\n",
    "Q^*(s,a)=\\max_{\\pi}Q^\\pi(s,a) \\> .\n",
    "\\end{equation*}\n",
    "\n",
    "In this project, we will apply the deep reinforcement learning techniques to a simple game: an agent will have to learn from scratch a policy that will permit it maximizing a reward."
   ]
  },
  {
   "cell_type": "markdown",
   "metadata": {
    "colab_type": "text",
    "id": "2w1ou29t1kZ1"
   },
   "source": [
    "## The environment, the agent and the game"
   ]
  },
  {
   "cell_type": "markdown",
   "metadata": {
    "colab_type": "text",
    "id": "cGblGbMI1kaD"
   },
   "source": [
    "### The environment"
   ]
  },
  {
   "cell_type": "markdown",
   "metadata": {
    "colab_type": "text",
    "id": "sIfNT68q1kaY"
   },
   "source": [
    "```Environment``` is an abstract class that represents the states, rewards, and actions to obtain the new state."
   ]
  },
  {
   "cell_type": "code",
   "execution_count": 2,
   "metadata": {
    "colab": {},
    "colab_type": "code",
    "id": "hC7704tK1kam"
   },
   "outputs": [],
   "source": [
    "class Environment(object):\n",
    "    def __init__(self):\n",
    "        pass\n",
    "\n",
    "    def act(self, act):\n",
    "        \"\"\"\n",
    "        One can act on the environment and obtain its reaction:\n",
    "        - the new state\n",
    "        - the reward of the new state\n",
    "        - should we continue the game?\n",
    "\n",
    "        :return: state, reward, game_over\n",
    "        \"\"\"\n",
    "        pass\n",
    "\n",
    "\n",
    "    def reset(self):\n",
    "        \"\"\"\n",
    "        Reinitialize the environment to a random state and returns\n",
    "        the original state\n",
    "\n",
    "        :return: state\n",
    "        \"\"\"\n",
    "        pass\n",
    "    \n",
    "    def draw(self):\n",
    "        \"\"\"\n",
    "        Visualize in the console or graphically the current state\n",
    "        \"\"\"\n",
    "        pass"
   ]
  },
  {
   "cell_type": "markdown",
   "metadata": {
    "colab_type": "text",
    "id": "ZBk6LBuC1kba"
   },
   "source": [
    "The method ```act``` allows to act on the environment at a given state $s_t$ (stored internally), via action $a_t$. The method will return the new state $s_{t+1}$, the reward $r(s_{t},a_{t})$ and determines if $t\\leq T$ (*game_over*).\n",
    "\n",
    "The method ```reset``` simply reinitializes the environment to a random state $s_0$.\n",
    "\n",
    "The method ```draw``` displays the current state $s_t$ (this is useful to check the behavior of the Agent).\n",
    "\n",
    "We modelize $s_t$ as a tensor, while $a_t$ is an integer."
   ]
  },
  {
   "cell_type": "markdown",
   "metadata": {
    "colab_type": "text",
    "id": "ryKc_pgI1kbr"
   },
   "source": [
    "### The Agent"
   ]
  },
  {
   "cell_type": "markdown",
   "metadata": {
    "colab_type": "text",
    "id": "UWvXzOzw1kb5"
   },
   "source": [
    "The goal of the ```Agent``` is to interact with the ```Environment``` by proposing actions $a_t$ obtained from a given state $s_t$ to attempt to maximize its __reward__ $r(s_t,a_t)$. We propose the following abstract class:"
   ]
  },
  {
   "cell_type": "code",
   "execution_count": 3,
   "metadata": {
    "colab": {},
    "colab_type": "code",
    "id": "uhDbwU9V1kcF"
   },
   "outputs": [],
   "source": [
    "class Agent(object):\n",
    "    def __init__(self, epsilon=0.1, n_action=4):\n",
    "        self.epsilon = epsilon\n",
    "        self.n_action = n_action\n",
    "    \n",
    "    def set_epsilon(self,e):\n",
    "        self.epsilon = e\n",
    "\n",
    "    def act(self,s,train=True):\n",
    "        \"\"\" This function should return the next action to do:\n",
    "        an integer between 0 and 4 (not included) with a random exploration of epsilon\"\"\"\n",
    "        if train:\n",
    "            if np.random.rand() <= self.epsilon:\n",
    "                a = np.random.randint(0, self.n_action, size=1)[0]\n",
    "            else:\n",
    "                a = self.learned_act(s)\n",
    "        else: # in some cases, this can improve the performance.. remove it if poor performances\n",
    "            a = self.learned_act(s)\n",
    "\n",
    "        return a\n",
    "\n",
    "    def learned_act(self,s):\n",
    "        \"\"\" Act via the policy of the agent, from a given state s\n",
    "        it proposes an action a\"\"\"\n",
    "        pass\n",
    "\n",
    "    def reinforce(self, s, n_s, a, r, game_over_):\n",
    "        \"\"\" This function is the core of the learning algorithm. \n",
    "        It takes as an input the current state s_, the next state n_s_\n",
    "        the action a_ used to move from s_ to n_s_ and the reward r_.\n",
    "        \n",
    "        Its goal is to learn a policy.\n",
    "        \"\"\"\n",
    "        pass\n",
    "\n",
    "    def save(self):\n",
    "        \"\"\" This function returns basic stats if applicable: the\n",
    "        loss and/or the model\"\"\"\n",
    "        pass\n",
    "\n",
    "    def load(self):\n",
    "        \"\"\" This function allows to restore a model\"\"\"\n",
    "        pass"
   ]
  },
  {
   "cell_type": "markdown",
   "metadata": {
    "colab_type": "text",
    "id": "MncZpf7J1kcs"
   },
   "source": [
    "***\n",
    "__Question 1__:\n",
    "Explain the function act. Why is ```epsilon``` essential?"
   ]
  },
  {
   "cell_type": "markdown",
   "metadata": {
    "colab_type": "text",
    "id": "0vZifqSC1kc3"
   },
   "source": [
    "The fuction ```act``` takes as input the current state and returns the next action. During training, the fuction ```act``` uses $\\epsilon$-greedy exploration which means that with a probability $\\epsilon$ we try a random action otherwise we return the best action according to what we learned so far. The idea is to balance exploration and exploitation."
   ]
  },
  {
   "cell_type": "markdown",
   "metadata": {
    "colab_type": "text",
    "id": "J2Ic2Qrd1kdF"
   },
   "source": [
    "***\n",
    "### The Game"
   ]
  },
  {
   "cell_type": "markdown",
   "metadata": {
    "colab_type": "text",
    "id": "piDnA8N61kdU"
   },
   "source": [
    "The ```Agent``` and the ```Environment``` work in an interlaced way as in the following (take some time to understand this code as it is the core of the project)\n",
    "\n",
    "```python\n",
    "\n",
    "epoch = 300\n",
    "env = Environment()\n",
    "agent = Agent()\n",
    "\n",
    "\n",
    "# Number of won games\n",
    "score = 0\n",
    "loss = 0\n",
    "\n",
    "\n",
    "for e in range(epoch):\n",
    "    # At each epoch, we restart to a fresh game and get the initial state\n",
    "    state = env.reset()\n",
    "    # This assumes that the games will end\n",
    "    game_over = False\n",
    "\n",
    "    win = 0\n",
    "    lose = 0\n",
    "    \n",
    "    while not game_over:\n",
    "        # The agent performs an action\n",
    "        action = agent.act(state)\n",
    "\n",
    "        # Apply an action to the environment, get the next state, the reward\n",
    "        # and if the games end\n",
    "        prev_state = state\n",
    "        state, reward, game_over = env.act(action)\n",
    "\n",
    "        # Update the counters\n",
    "        if reward > 0:\n",
    "            win = win + reward\n",
    "        if reward < 0:\n",
    "            lose = lose - reward\n",
    "\n",
    "        # Apply the reinforcement strategy\n",
    "        loss = agent.reinforce(prev_state, state,  action, reward, game_over)\n",
    "\n",
    "    # Save as a mp4\n",
    "    if e % 10 == 0:\n",
    "        env.draw(e)\n",
    "\n",
    "    # Update stats\n",
    "    score += win-lose\n",
    "\n",
    "    print(\"Epoch {:03d}/{:03d} | Loss {:.4f} | Win/lose count {}/{} ({})\"\n",
    "          .format(e, epoch, loss, win, lose, win-lose))\n",
    "    agent.save()\n",
    "```"
   ]
  },
  {
   "cell_type": "markdown",
   "metadata": {
    "colab_type": "text",
    "id": "f-yDkMwT1kdh"
   },
   "source": [
    "# The game, *eat cheese*"
   ]
  },
  {
   "cell_type": "markdown",
   "metadata": {
    "colab_type": "text",
    "id": "QKfhkb_R1kds"
   },
   "source": [
    "A rat runs on an island and tries to eat as much as possible. The island is subdivided into $N\\times N$ cells, in which there are cheese (+0.5) and poisonous cells (-1). The rat has a visibility of 2 cells (thus it can see $5^2$ cells). The rat is given a time $T$ to accumulate as much food as possible. It can perform 4 actions: going up, down, left, right. \n",
    "\n",
    "The goal is to code an agent to solve this task that will learn by trial and error. We propose the following environment:"
   ]
  },
  {
   "cell_type": "code",
   "execution_count": 4,
   "metadata": {
    "colab": {},
    "colab_type": "code",
    "id": "b-Gexpd11kd_"
   },
   "outputs": [],
   "source": [
    "class Environment(object):\n",
    "    def __init__(self, grid_size=10, max_time=500, temperature=0.1):\n",
    "        grid_size = grid_size+4\n",
    "        self.grid_size = grid_size\n",
    "        self.max_time = max_time\n",
    "        self.temperature = temperature\n",
    "\n",
    "        #board on which one plays\n",
    "        self.board = np.zeros((grid_size,grid_size))\n",
    "        self.position = np.zeros((grid_size,grid_size))\n",
    "\n",
    "        # coordinate of the cat\n",
    "        self.x = 0\n",
    "        self.y = 1\n",
    "\n",
    "        # self time\n",
    "        self.t = 0\n",
    "\n",
    "        self.scale=16\n",
    "\n",
    "        self.to_draw = np.zeros((max_time+2, grid_size*self.scale, grid_size*self.scale, 3))\n",
    "\n",
    "\n",
    "    def draw(self,e):\n",
    "        skvideo.io.vwrite(str(e) + '.mp4', self.to_draw)\n",
    "\n",
    "    def get_frame(self,t):\n",
    "        b = np.zeros((self.grid_size,self.grid_size,3))+128\n",
    "        b[self.board>0,0] = 256\n",
    "        b[self.board < 0, 2] = 256\n",
    "        b[self.x,self.y,:]=256\n",
    "        b[-2:,:,:]=0\n",
    "        b[:,-2:,:]=0\n",
    "        b[:2,:,:]=0\n",
    "        b[:,:2,:]=0\n",
    "        \n",
    "        b =  cv2.resize(b, None, fx=self.scale, fy=self.scale, interpolation=cv2.INTER_NEAREST)\n",
    "\n",
    "        self.to_draw[t,:,:,:]=b\n",
    "\n",
    "\n",
    "    def act(self, action):\n",
    "        \"\"\"This function returns the new state, reward and decides if the\n",
    "        game ends.\"\"\"\n",
    "\n",
    "        self.get_frame(int(self.t))\n",
    "\n",
    "        self.position = np.zeros((self.grid_size, self.grid_size))\n",
    "\n",
    "        self.position[0:2,:]= -1\n",
    "        self.position[:,0:2] = -1\n",
    "        self.position[-2:, :] = -1\n",
    "        self.position[:, -2:] = -1\n",
    "\n",
    "        self.position[self.x, self.y] = 1\n",
    "        if action == 0:\n",
    "            if self.x == self.grid_size-3:\n",
    "                self.x = self.x-1\n",
    "            else:\n",
    "                self.x = self.x + 1\n",
    "        elif action == 1:\n",
    "            if self.x == 2:\n",
    "                self.x = self.x+1\n",
    "            else:\n",
    "                self.x = self.x-1\n",
    "        elif action == 2:\n",
    "            if self.y == self.grid_size - 3:\n",
    "                self.y = self.y - 1\n",
    "            else:\n",
    "                self.y = self.y + 1\n",
    "        elif action == 3:\n",
    "            if self.y == 2:\n",
    "                self.y = self.y + 1\n",
    "            else:\n",
    "                self.y = self.y - 1\n",
    "        else:\n",
    "            RuntimeError('Error: action not recognized')\n",
    "\n",
    "        self.t = self.t + 1\n",
    "        reward = self.board[self.x, self.y]\n",
    "        self.board[self.x, self.y] = 0\n",
    "        game_over = self.t > self.max_time\n",
    "        state = np.concatenate((self.board.reshape(self.grid_size, self.grid_size,1),\n",
    "                        self.position.reshape(self.grid_size, self.grid_size,1)),axis=2)\n",
    "        state = state[self.x-2:self.x+3,self.y-2:self.y+3,:]\n",
    "\n",
    "        return state, reward, game_over\n",
    "\n",
    "    def reset(self):\n",
    "        \"\"\"This function resets the game and returns the initial state\"\"\"\n",
    "\n",
    "        self.x = np.random.randint(3, self.grid_size-3, size=1)[0]\n",
    "        self.y = np.random.randint(3, self.grid_size-3, size=1)[0]\n",
    "\n",
    "\n",
    "        bonus = 0.5*np.random.binomial(1,self.temperature,size=self.grid_size**2)\n",
    "        bonus = bonus.reshape(self.grid_size,self.grid_size)\n",
    "\n",
    "        malus = -1.0*np.random.binomial(1,self.temperature,size=self.grid_size**2)\n",
    "        malus = malus.reshape(self.grid_size, self.grid_size)\n",
    "\n",
    "        self.to_draw = np.zeros((self.max_time+2, self.grid_size*self.scale, self.grid_size*self.scale, 3))\n",
    "\n",
    "\n",
    "        malus[bonus>0]=0\n",
    "\n",
    "        self.board = bonus + malus\n",
    "\n",
    "        self.position = np.zeros((self.grid_size, self.grid_size))\n",
    "        self.position[0:2,:]= -1\n",
    "        self.position[:,0:2] = -1\n",
    "        self.position[-2:, :] = -1\n",
    "        self.position[:, -2:] = -1\n",
    "        self.board[self.x,self.y] = 0\n",
    "        self.t = 0\n",
    "\n",
    "        state = np.concatenate((\n",
    "                               self.board.reshape(self.grid_size, self.grid_size,1),\n",
    "                        self.position.reshape(self.grid_size, self.grid_size,1)),axis=2)\n",
    "\n",
    "        state = state[self.x - 2:self.x + 3, self.y - 2:self.y + 3, :]\n",
    "        return state"
   ]
  },
  {
   "cell_type": "markdown",
   "metadata": {
    "colab_type": "text",
    "id": "f-b5Q0NI1keo"
   },
   "source": [
    "The following elements are important because they correspond to the hyper parameters for this project:"
   ]
  },
  {
   "cell_type": "code",
   "execution_count": 5,
   "metadata": {
    "colab": {},
    "colab_type": "code",
    "id": "bMjDVyZU1ke0"
   },
   "outputs": [],
   "source": [
    "# parameters\n",
    "size = 13\n",
    "T=200\n",
    "temperature=0.3\n",
    "epochs_train=51 # set small when debugging\n",
    "epochs_test=11 # set small when debugging\n",
    "\n",
    "# display videos\n",
    "def display_videos(name):\n",
    "    video = io.open(name, 'r+b').read()\n",
    "    encoded = base64.b64encode(video)\n",
    "    return '''<video alt=\"test\" controls>\n",
    "                <source src=\"data:video/mp4;base64,{0}\" type=\"video/mp4\" />\n",
    "             </video>'''.format(encoded.decode('ascii'))"
   ]
  },
  {
   "cell_type": "markdown",
   "metadata": {
    "colab_type": "text",
    "id": "AxWHHu_W1kfv"
   },
   "source": [
    "__Question 2__ Explain the use of the arrays ```position``` and ```board```."
   ]
  },
  {
   "cell_type": "markdown",
   "metadata": {
    "colab_type": "text",
    "id": "17_io5Ac1kgC"
   },
   "source": [
    "The array ```position``` is used to store the current position. The current position is marked by 1.\n",
    "\n",
    "The array ```board``` is used to store the reward present in the reward of each cell. Once the cell is visited, its value in the array ```board``` is set to 0."
   ]
  },
  {
   "cell_type": "markdown",
   "metadata": {
    "colab_type": "text",
    "id": "LPB3tm651kgL"
   },
   "source": [
    "## Random Agent"
   ]
  },
  {
   "cell_type": "markdown",
   "metadata": {
    "colab_type": "text",
    "id": "KZyOfN0u1kgf"
   },
   "source": [
    "***\n",
    "__Question 3__ Implement a random Agent (only ```learned_act``` needs to be implemented):"
   ]
  },
  {
   "cell_type": "code",
   "execution_count": 6,
   "metadata": {
    "colab": {},
    "colab_type": "code",
    "id": "fUiKFLUc1kgt"
   },
   "outputs": [],
   "source": [
    "class RandomAgent(Agent):\n",
    "    def __init__(self):\n",
    "        super(RandomAgent, self).__init__()\n",
    "        pass\n",
    "\n",
    "    def learned_act(self, s):\n",
    "        return np.random.randint(self.n_action)"
   ]
  },
  {
   "cell_type": "markdown",
   "metadata": {
    "colab_type": "text",
    "id": "V_iqltpy1khQ"
   },
   "source": [
    "***\n",
    "***\n",
    "__Question 4__ Visualize the game moves. You need to fill in the following function for the evaluation:"
   ]
  },
  {
   "cell_type": "code",
   "execution_count": 7,
   "metadata": {
    "colab": {},
    "colab_type": "code",
    "id": "bsPb0Z6I1khZ"
   },
   "outputs": [],
   "source": [
    "def test(agent,env,epochs,prefix=''):\n",
    "    # Number of won games\n",
    "    score = 0\n",
    "        \n",
    "    for e in range(epochs):\n",
    "        # At each epoch, we restart to a fresh game and get the initial state\n",
    "        state = env.reset()\n",
    "        # This assumes that the games will end\n",
    "        game_over = False\n",
    "    \n",
    "        win = 0\n",
    "        lose = 0\n",
    "    \n",
    "        while not game_over:\n",
    "            # The agent performs an action\n",
    "            action = agent.act(state)\n",
    "    \n",
    "            # Apply an action to the environment, get the next state, the reward\n",
    "            # and if the games end\n",
    "            prev_state = state\n",
    "            state, reward, game_over = env.act(action)\n",
    "    \n",
    "            # Update the counters\n",
    "            if reward > 0:\n",
    "                win = win + reward\n",
    "            if reward < 0:\n",
    "                lose = lose - reward\n",
    "        \n",
    "        # Save as a mp4\n",
    "        env.draw(prefix+str(e))\n",
    "\n",
    "        # Update stats\n",
    "        score = score + win - lose\n",
    "\n",
    "        print(\"Win/lose count {}/{}. Average score ({})\"\n",
    "              .format(win, lose, score/(1+e)))\n",
    "    print('Final score: '+str(score/epochs))"
   ]
  },
  {
   "cell_type": "code",
   "execution_count": 8,
   "metadata": {
    "colab": {
     "base_uri": "https://localhost:8080/",
     "height": 497
    },
    "colab_type": "code",
    "id": "msc7Y5_Z1kiA",
    "outputId": "f93e0bed-7e75-40bd-d8f3-95446175bec2"
   },
   "outputs": [
    {
     "name": "stdout",
     "output_type": "stream",
     "text": [
      "Win/lose count 7.5/12.0. Average score (-4.5)\n",
      "Win/lose count 12.5/22.0. Average score (-7.0)\n",
      "Win/lose count 13.0/16.0. Average score (-5.666666666666667)\n",
      "Win/lose count 8.0/11.0. Average score (-5.0)\n",
      "Win/lose count 12.0/13.0. Average score (-4.2)\n",
      "Win/lose count 11.5/13.0. Average score (-3.75)\n",
      "Win/lose count 12.0/21.0. Average score (-4.5)\n",
      "Win/lose count 11.0/14.0. Average score (-4.3125)\n",
      "Win/lose count 10.0/12.0. Average score (-4.055555555555555)\n",
      "Win/lose count 7.5/13.0. Average score (-4.2)\n",
      "Win/lose count 5.0/5.0. Average score (-3.8181818181818183)\n",
      "Final score: -3.8181818181818183\n"
     ]
    },
    {
     "data": {
      "text/html": [
       "<video alt=\"test\" controls>\n",
       "                <source src=\"data:video/mp4;base64,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\" type=\"video/mp4\" />\n",
       "             </video>"
      ],
      "text/plain": [
       "<IPython.core.display.HTML object>"
      ]
     },
     "execution_count": 8,
     "metadata": {
      "tags": []
     },
     "output_type": "execute_result"
    }
   ],
   "source": [
    "# Initialize the game\n",
    "env = Environment(grid_size=size, max_time=T,temperature=temperature)\n",
    "\n",
    "# Initialize the agent!\n",
    "agent = RandomAgent()\n",
    "\n",
    "test(agent,env,epochs_test,prefix='random')\n",
    "HTML(display_videos('random0.mp4'))"
   ]
  },
  {
   "cell_type": "markdown",
   "metadata": {
    "colab_type": "text",
    "id": "2k7ETLMi1kik"
   },
   "source": [
    "***\n",
    "## DQN"
   ]
  },
  {
   "cell_type": "markdown",
   "metadata": {
    "colab_type": "text",
    "id": "SBBpmnIr1ki0"
   },
   "source": [
    "Let us assume here that $T=\\infty$.\n",
    "\n",
    "***\n",
    "__Question 5__ Let $\\pi$ be a policy, show that:\n",
    "\n",
    "\\begin{equation*}\n",
    "Q^{\\pi}(s,a)=E_{(s',a')\\sim p(.|s,a)}[r(s,a)+\\gamma Q^{\\pi}(s',a')]\n",
    "\\end{equation*}\n",
    "\n",
    "Then, show that for the optimal policy $\\pi^*$ (we assume its existence), the following holds: \n",
    "\n",
    "\\begin{equation*}\n",
    "Q^{*}(s,a)=E_{s'\\sim \\pi^*(.|s,a)}[r(s,a)+\\gamma\\max_{a'}Q^{*}(s',a')].\n",
    "\\end{equation*}\n",
    "Finally, deduce that a plausible objective is:\n",
    "\n",
    "\\begin{equation*}\n",
    "\\mathcal{L}(\\theta)=E_{s' \\sim \\pi^*(.|s,a)}\\Vert r+\\gamma\\max_{a'}Q(s',a',\\theta)-Q(s,a,\\theta)\\Vert^{2}.\n",
    "\\end{equation*}\n",
    "\n",
    "\n"
   ]
  },
  {
   "cell_type": "markdown",
   "metadata": {
    "colab_type": "text",
    "id": "OZm6IKh81ki_"
   },
   "source": [
    "__Answer :__\n",
    "\n",
    "1) We have:\n",
    "\\begin{equation*}\n",
    "\\begin{aligned}\n",
    "Q^{\\pi}(s,a)&=E\\left[\\sum_{k=0}^{\\infty} \\gamma^{k} r_{t+k+1}|s_{t}=s,a_{t}=a\\right]\\\\\n",
    "&=\\sum_{s^{\\prime}}p(s^{\\prime}|s,a)\\left(r(s,a,s^{\\prime}) + \\gamma \\sum_{a^{\\prime}} \\pi(s^{\\prime},a^{\\prime})E\\left[\\sum_{t=0}^{\\infty} \\gamma^{k} r_{t+k+2}|s_{t}=s^{\\prime},a_{t}=a^{\\prime}\\right]\\right)\\\\\n",
    "&=E\\left[r(s,a)\\right] + \\gamma \\sum_{s^{\\prime},a^{\\prime}}p(s^{\\prime}|s,a)\\pi(s^{\\prime},a^{\\prime})Q^{\\pi}(s',a')\\\\\n",
    "&=E_{(s',a')\\sim p(.|s,a)}\\left[r(s,a)+\\gamma Q^{\\pi}(s',a')\\right]\n",
    "\\end{aligned}\n",
    "\\end{equation*}\n",
    "\n",
    "2) We have from 1:\n",
    "\n",
    "\\begin{equation*}\n",
    "\\begin{aligned}\n",
    "Q^{*}(s,a)&=Q^{\\pi^{*}}(s,a)\\\\\n",
    "&=E\\left[r(s,a)\\right] + \\gamma \\sum_{s^{\\prime},a^{\\prime}}p(s^{\\prime}|s,a)\\pi^{*}(s^{\\prime},a^{\\prime})Q^{*}(s',a')\\\\\n",
    "\\end{aligned}\n",
    "\\end{equation*}\n",
    "Since \n",
    "\\begin{equation*}\n",
    "    \\pi^{*}(s,a)=\n",
    "    \\begin{cases}\n",
    "      1 & \\text{if}\\ a=arg\\max\\limits_{a^{\\prime}} Q^{*}(s,a^{\\prime}) \\\\\n",
    "      0 & \\text{otherwise}\n",
    "    \\end{cases}\n",
    "\\end{equation*}\n",
    "We deduce that:\n",
    "\\begin{equation*}\n",
    "\\begin{aligned}\n",
    "Q^{*}(s,a)&=Q^{\\pi^{*}}(s,a)\\\\\n",
    "&=E\\left[r(s,a)\\right] + \\gamma \\sum_{s^{\\prime}}p(s^{\\prime}|s,a)\\max_{a'}Q^{*}(s',a')\\\\\n",
    "&=E_{s'\\sim \\pi^*(.|s,a)}[r(s,a)+\\gamma\\max_{a'}Q^{*}(s',a')]\n",
    "\\end{aligned}\n",
    "\\end{equation*}\n",
    "\n",
    "3) We are trying to find the policy $\\theta$ which verify the Optimal Bellman equation. That said, we are trying to minimize $|| r(s,a)+\\gamma\\max_{a'}Q(s',a')-Q(s,a)||^{2}$.\n",
    "\n",
    "This minimization should be donne for each state $s$ and each action $a$. That's why we consider the expected value which gives us the loss function below:\n",
    "\n",
    "\\begin{equation*}\n",
    "\\mathcal{L}(\\theta)=E_{s' \\sim \\pi^*(.|s,a)}\\Vert r+\\gamma\\max_{a'}Q(s',a',\\theta)-Q(s,a,\\theta)\\Vert^{2}.\n",
    "\\end{equation*}"
   ]
  },
  {
   "cell_type": "markdown",
   "metadata": {
    "colab_type": "text",
    "id": "dxCD0WJX1kjG"
   },
   "source": [
    "***\n",
    "The DQN-learning algorithm relies on these derivations to train the parameters $\\theta$ of a Deep Neural Network:\n",
    "\n",
    "1. At the state $s_t$, select the action $a_t$ with best reward using $Q_t$ and store the results;\n",
    "\n",
    "2. Obtain the new state $s_{t+1}$ from the environment $p$;\n",
    "\n",
    "3. Store $(s_t,a_t,s_{t+1})$;\n",
    "\n",
    "4. Obtain $Q_{t+1}$ by minimizing  $\\mathcal{L}$ from a recovered batch from the previously stored results.\n",
    "\n",
    "***\n",
    "__Question 6__ Implement the class ```Memory``` that stores moves (in a replay buffer) via ```remember``` and provides a ```random_access``` to these. Specify a maximum memory size to avoid side effects. You can for example use a ```list()``` and set by default ```max_memory=100```."
   ]
  },
  {
   "cell_type": "code",
   "execution_count": 9,
   "metadata": {
    "colab": {},
    "colab_type": "code",
    "id": "wYA_PLTY1kjQ"
   },
   "outputs": [],
   "source": [
    "class Memory(object):\n",
    "    def __init__(self, max_memory=100):\n",
    "        self.max_memory = max_memory\n",
    "        self.memory = list()\n",
    "\n",
    "    def remember(self, m):\n",
    "        if len(self.memory) == self.max_memory:\n",
    "            self.memory.pop(0)\n",
    "        self.memory.append(m)\n",
    "\n",
    "    def random_access(self):\n",
    "        return self.memory[np.random.randint(len(self.memory))]"
   ]
  },
  {
   "cell_type": "markdown",
   "metadata": {
    "colab_type": "text",
    "id": "b3EfQ2hG1kjs"
   },
   "source": [
    "***\n",
    "The pipeline we will use for training is given below:"
   ]
  },
  {
   "cell_type": "code",
   "execution_count": 10,
   "metadata": {
    "colab": {},
    "colab_type": "code",
    "id": "HQAytcEJ1kj4"
   },
   "outputs": [],
   "source": [
    "def train(agent,env,epoch,prefix=''):\n",
    "    # Number of won games\n",
    "    score = 0\n",
    "    loss = 0\n",
    "\n",
    "    for e in range(epoch):\n",
    "        # At each epoch, we restart to a fresh game and get the initial state\n",
    "        state = env.reset()\n",
    "        # This assumes that the games will terminate\n",
    "        game_over = False\n",
    "\n",
    "        win = 0\n",
    "        lose = 0\n",
    "\n",
    "        while not game_over:\n",
    "            # The agent performs an action\n",
    "            action = agent.act(state)\n",
    "\n",
    "            # Apply an action to the environment, get the next state, the reward\n",
    "            # and if the games end\n",
    "            prev_state = state\n",
    "            state, reward, game_over = env.act(action)\n",
    "\n",
    "            # Update the counters\n",
    "            if reward > 0:\n",
    "                win = win + reward\n",
    "            if reward < 0:\n",
    "                lose = lose - reward\n",
    "\n",
    "            # Apply the reinforcement strategy\n",
    "            loss = agent.reinforce(prev_state, state,  action, reward, game_over)\n",
    "\n",
    "        # Save as a mp4\n",
    "        if e % 10 == 0:\n",
    "            env.draw(prefix+str(e))\n",
    "\n",
    "        # Update stats\n",
    "        score += win-lose\n",
    "\n",
    "        print(\"Epoch {:03d}/{:03d} | Loss {:.4f} | Win/lose count {}/{} ({})\"\n",
    "              .format(e, epoch, loss, win, lose, win-lose))\n",
    "        agent.save(name_weights=prefix+'model.h5',name_model=prefix+'model.json')"
   ]
  },
  {
   "cell_type": "markdown",
   "metadata": {
    "colab_type": "text",
    "id": "4VWfKAOA1kka"
   },
   "source": [
    "***\n",
    "__Question 7__ Implement the DQN training algorithm using a cascade of fully connected layers. You can use different learning rate, batch size or memory size parameters. In particular, the loss might oscillate while the player will start to win the games. You have to find a good criterium."
   ]
  },
  {
   "cell_type": "code",
   "execution_count": 11,
   "metadata": {
    "colab": {},
    "colab_type": "code",
    "id": "twoFhSb51kkj"
   },
   "outputs": [],
   "source": [
    "class DQN(Agent):\n",
    "    def __init__(self, grid_size,  epsilon = 0.1, memory_size=100, batch_size = 16,n_state=2):\n",
    "        super(DQN, self).__init__(epsilon = epsilon)\n",
    "\n",
    "        # Discount for Q learning\n",
    "        self.discount = 0.99\n",
    "        \n",
    "        self.grid_size = grid_size\n",
    "        \n",
    "        # number of state\n",
    "        self.n_state = n_state\n",
    "\n",
    "        # Memory\n",
    "        self.memory = Memory(memory_size)\n",
    "        \n",
    "        # Batch size when learning\n",
    "        self.batch_size = batch_size\n",
    "\n",
    "    def learned_act(self, s):\n",
    "        # predict Q(s,.) using the trained model and return argmax(Q(s,.))\n",
    "        target_q = self.model.predict(s[np.newaxis])\n",
    "        return np.argmax(target_q)\n",
    "\n",
    "    def reinforce(self, s_, n_s_, a_, r_, game_over_):\n",
    "        # Two steps: first memorize the states, second learn from the pool\n",
    "\n",
    "        self.memory.remember([s_, n_s_, a_, r_, game_over_])\n",
    "        \n",
    "        input_states = np.zeros((self.batch_size, 5, 5, self.n_state))\n",
    "        target_q = np.zeros((self.batch_size, 4))\n",
    "        \n",
    "        for i in range(self.batch_size):\n",
    "            s_i, n_s_i, a_i, r_i, game_over_i = self.memory.random_access()\n",
    "            input_states[i] = s_i\n",
    "            target_q[i] = self.model.predict(s_i[np.newaxis])\n",
    "            if game_over_i:\n",
    "                target_q[i, a_i] = r_i\n",
    "            else:\n",
    "                target_q[i, a_i] = r_i + self.discount * np.max(self.model.predict(n_s_i[np.newaxis]))\n",
    "\n",
    "        # HINT: Clip the target to avoid exploiding gradients.. -- clipping is a bit tighter\n",
    "        target_q = np.clip(target_q, -3, 3)\n",
    "\n",
    "        l = self.model.train_on_batch(input_states, target_q)\n",
    "\n",
    "        return l\n",
    "\n",
    "    def save(self,name_weights='model.h5',name_model='model.json'):\n",
    "        self.model.save_weights(name_weights, overwrite=True)\n",
    "        with open(name_model, \"w\") as outfile:\n",
    "            json.dump(self.model.to_json(), outfile)\n",
    "            \n",
    "    def load(self,name_weights='model.h5',name_model='model.json'):\n",
    "        with open(name_model, \"r\") as jfile:\n",
    "            model = model_from_json(json.load(jfile))\n",
    "        model.load_weights(name_weights)\n",
    "        model.compile(\"sgd\", \"mse\")\n",
    "        self.model = model\n",
    "\n",
    "            \n",
    "class DQN_FC(DQN):\n",
    "    def __init__(self, *args, lr=0.1,**kwargs):\n",
    "        super(DQN_FC, self).__init__( *args,**kwargs)\n",
    "        \n",
    "        # NN Model\n",
    "        model = Sequential()\n",
    "        model.add(Flatten())\n",
    "        model.add(Dense(32, activation='relu'))\n",
    "        model.add(Dense(16, activation='relu'))\n",
    "        model.add(Dense(4))\n",
    "        \n",
    "        model.compile(sgd(lr=lr, decay=1e-4, momentum=0.0), \"mse\")\n",
    "        self.model = model\n",
    "        "
   ]
  },
  {
   "cell_type": "code",
   "execution_count": 12,
   "metadata": {
    "colab": {
     "base_uri": "https://localhost:8080/",
     "height": 1000
    },
    "colab_type": "code",
    "id": "dvxhrg8l1klG",
    "outputId": "38f49276-2243-46ad-fd19-9a0a5249f751"
   },
   "outputs": [
    {
     "name": "stdout",
     "output_type": "stream",
     "text": [
      "Epoch 000/051 | Loss 0.0289 | Win/lose count 3.0/1.0 (2.0)\n",
      "Epoch 001/051 | Loss 0.0377 | Win/lose count 3.0/6.0 (-3.0)\n",
      "Epoch 002/051 | Loss 0.0038 | Win/lose count 4.5/2.0 (2.5)\n",
      "Epoch 003/051 | Loss 0.0114 | Win/lose count 2.5/6.0 (-3.5)\n",
      "Epoch 004/051 | Loss 0.0351 | Win/lose count 2.5/4.0 (-1.5)\n",
      "Epoch 005/051 | Loss 0.0086 | Win/lose count 5.0/1.0 (4.0)\n",
      "Epoch 006/051 | Loss 0.0048 | Win/lose count 2.0/2.0 (0.0)\n",
      "Epoch 007/051 | Loss 0.0069 | Win/lose count 1.0/3.0 (-2.0)\n",
      "Epoch 008/051 | Loss 0.0079 | Win/lose count 4.5/5.0 (-0.5)\n",
      "Epoch 009/051 | Loss 0.0067 | Win/lose count 3.0/2.0 (1.0)\n",
      "Epoch 010/051 | Loss 0.0061 | Win/lose count 3.5/2.0 (1.5)\n",
      "Epoch 011/051 | Loss 0.0027 | Win/lose count 3.0/6.0 (-3.0)\n",
      "Epoch 012/051 | Loss 0.0171 | Win/lose count 2.5/3.0 (-0.5)\n",
      "Epoch 013/051 | Loss 0.0499 | Win/lose count 3.5/3.0 (0.5)\n",
      "Epoch 014/051 | Loss 0.0421 | Win/lose count 3.0/7.0 (-4.0)\n",
      "Epoch 015/051 | Loss 0.0055 | Win/lose count 4.0/9.0 (-5.0)\n",
      "Epoch 016/051 | Loss 0.0032 | Win/lose count 4.0/6.0 (-2.0)\n",
      "Epoch 017/051 | Loss 0.0035 | Win/lose count 2.5/5.0 (-2.5)\n",
      "Epoch 018/051 | Loss 0.0072 | Win/lose count 6.0/8.0 (-2.0)\n",
      "Epoch 019/051 | Loss 0.0044 | Win/lose count 5.0/2.0 (3.0)\n",
      "Epoch 020/051 | Loss 0.0067 | Win/lose count 6.0/6.0 (0.0)\n",
      "Epoch 021/051 | Loss 0.0119 | Win/lose count 6.0/3.0 (3.0)\n",
      "Epoch 022/051 | Loss 0.0040 | Win/lose count 2.5/4.0 (-1.5)\n",
      "Epoch 023/051 | Loss 0.0269 | Win/lose count 4.5/4.0 (0.5)\n",
      "Epoch 024/051 | Loss 0.0061 | Win/lose count 3.0/5.0 (-2.0)\n",
      "Epoch 025/051 | Loss 0.0063 | Win/lose count 5.5/2.0 (3.5)\n",
      "Epoch 026/051 | Loss 0.0046 | Win/lose count 7.0/4.0 (3.0)\n",
      "Epoch 027/051 | Loss 0.0066 | Win/lose count 2.5/2.0 (0.5)\n",
      "Epoch 028/051 | Loss 0.0053 | Win/lose count 3.0/3.0 (0.0)\n",
      "Epoch 029/051 | Loss 0.0424 | Win/lose count 5.5/9.0 (-3.5)\n",
      "Epoch 030/051 | Loss 0.0067 | Win/lose count 3.5/6.0 (-2.5)\n",
      "Epoch 031/051 | Loss 0.0042 | Win/lose count 5.0/2.0 (3.0)\n",
      "Epoch 032/051 | Loss 0.0417 | Win/lose count 6.0/3.0 (3.0)\n",
      "Epoch 033/051 | Loss 0.0154 | Win/lose count 6.0/1.0 (5.0)\n",
      "Epoch 034/051 | Loss 0.0023 | Win/lose count 7.0/6.0 (1.0)\n",
      "Epoch 035/051 | Loss 0.0142 | Win/lose count 6.5/5.0 (1.5)\n",
      "Epoch 036/051 | Loss 0.0060 | Win/lose count 4.0/5.0 (-1.0)\n",
      "Epoch 037/051 | Loss 0.0076 | Win/lose count 5.0/4.0 (1.0)\n",
      "Epoch 038/051 | Loss 0.0059 | Win/lose count 8.5/4.0 (4.5)\n",
      "Epoch 039/051 | Loss 0.0201 | Win/lose count 2.5/1.0 (1.5)\n",
      "Epoch 040/051 | Loss 0.0331 | Win/lose count 4.5/4.0 (0.5)\n",
      "Epoch 041/051 | Loss 0.0084 | Win/lose count 2.0/3.0 (-1.0)\n",
      "Epoch 042/051 | Loss 0.0094 | Win/lose count 4.0/1.0 (3.0)\n",
      "Epoch 043/051 | Loss 0.0082 | Win/lose count 12.5/4.0 (8.5)\n",
      "Epoch 044/051 | Loss 0.0085 | Win/lose count 9.0/6.0 (3.0)\n",
      "Epoch 045/051 | Loss 0.0396 | Win/lose count 5.0/1.0 (4.0)\n",
      "Epoch 046/051 | Loss 0.0049 | Win/lose count 7.5/4.0 (3.5)\n",
      "Epoch 047/051 | Loss 0.0027 | Win/lose count 5.5/1.0 (4.5)\n",
      "Epoch 048/051 | Loss 0.0038 | Win/lose count 3.0/3.0 (0.0)\n",
      "Epoch 049/051 | Loss 0.0082 | Win/lose count 6.0/4.0 (2.0)\n",
      "Epoch 050/051 | Loss 0.0096 | Win/lose count 5.0/2.0 (3.0)\n"
     ]
    },
    {
     "data": {
      "text/html": [
       "<video alt=\"test\" controls>\n",
       "                <source src=\"data:video/mp4;base64,AAAAIGZ0eXBpc29tAAACAGlzb21pc28yYXZjMW1wNDEAAAAIZnJlZQAAFkBtZGF0AAACrQYF//+p3EXpvebZSLeWLNgg2SPu73gyNjQgLSBjb3JlIDE1MiByMjg1NCBlOWE1OTAzIC0gSC4yNjQvTVBFRy00IEFWQyBjb2RlYyAtIENvcHlsZWZ0IDIwMDMtMjAxNyAtIGh0dHA6Ly93d3cudmlkZW9sYW4ub3JnL3gyNjQuaHRtbCAtIG9wdGlvbnM6IGNhYmFjPTEgcmVmPTMgZGVibG9jaz0xOjA6MCBhbmFseXNlPTB4MToweDExMSBtZT1oZXggc3VibWU9NyBwc3k9MSBwc3lfcmQ9MS4wMDowLjAwIG1peGVkX3JlZj0xIG1lX3JhbmdlPTE2IGNocm9tYV9tZT0xIHRyZWxsaXM9MSA4eDhkY3Q9MCBjcW09MCBkZWFkem9uZT0yMSwxMSBmYXN0X3Bza2lwPTEgY2hyb21hX3FwX29mZnNldD00IHRocmVhZHM9MyBsb29rYWhlYWRfdGhyZWFkcz0xIHNsaWNlZF90aHJlYWRzPTAgbnI9MCBkZWNpbWF0ZT0xIGludGVybGFjZWQ9MCBibHVyYXlfY29tcGF0PTAgY29uc3RyYWluZWRfaW50cmE9MCBiZnJhbWVzPTMgYl9weXJhbWlkPTIgYl9hZGFwdD0xIGJfYmlhcz0wIGRpcmVjdD0xIHdlaWdodGI9MSBvcGVuX2dvcD0wIHdlaWdodHA9MiBrZXlpbnQ9MjUwIGtleWludF9taW49MjUgc2NlbmVjdXQ9NDAgaW50cmFfcmVmcmVzaD0wIHJjX2xvb2thaGVhZD00MCByYz1jcmYgbWJ0cmVlPTEgY3JmPTIzLjAgcWNvbXA9MC42MCBxcG1pbj0wIHFwbWF4PTY5IHFwc3RlcD00IGlwX3JhdGlvPTEuNDAgYXE9MToxLjAwAIAAAALbZYiEADP//vaG+BTYUyP+T7/8I/+5H7cfWfrixkIJvrVeQ9GAMl8a/5lGYaXpyc8t7R+vTNAEZz6HlLJIofgUkwDfMsjnE+I06ctmnylTgsspTsqRScrVTqQC0xbShz+Uxqi3XPu/DP6F1ZM0CsPU1Y4aum90K8xDx3trD5HSKCXkXYI+xSraC1VWRs2Doq3zxPAmXEWteml13rktkYHADiUNA56XZl/vnGD8Y0ka22kZQcoWbtDQbeSq8DOyZp31oc8ROm0SokhnIhFEGXV5juVxje11ct5gbOD2NKOWWfTAA8MLqgQ0dv2mtia9ngcBthRNvz9mhajfFjaHbkhu7sy+y4m4Ju7T3nzAebakvmi0DLDrE0VQPDFy5tbf+ymKEknVgdFZ/cvOehTLM68pPU/iEUTkYVxEbQXNYrq4P4vn8y6PTQ8bBjUNNX5JlVUvXujf7Vkc7O8feEOoIsRqEB/4ge73fBzlQTuDOjjhzfqlfdJGqyGq0021mvGINlqSyxJKMmmcQh9KkPYL2rWEK9EaRsOsERDICpZLvm/uX8z8FlM2wDFKy+8A6WcVCBi9CnT7DikCc2c9pVKpRrvyJBFosEj9H2TIc4um9N585Ma5CmQgCk11ZfnYDK+0uofoywZD3cCaMlkWz788npFv6EtxJkTerPFKZoZJKTc+UzbuAvK7CCAAETnl0Y9dcTTIhZD1QR00p3Qo33BmJ1dt2W/WgOPjenxBG21ERW6Ct7Vx2GAiBzebFbMBisJmTHZyS5DAjNLumAB06SJNuzwUCRn+xnYxS8bKH/3S5b8sEie7VXd7u8LnecQfAAaG8EkIannAaECk0ulLh1EmkxaXf9kkk2abLJreUfR6/gvyvEEfN6Wv8Y8Prh9Ur3wG03aL86u2pztlRbDFbH8qHmmT75y4dy47w9+exjdfTj7gIDzuie/ApFz3Hvl5VXLPW6sREK7kEQ/EwHgAB1UAAAATQZohbEM//p4QAoxhHPzt3tuKmAAAABdBmkI8IZMphDP//p4QA9xTjn8Oc31lNwAAABxBmmRJ4Q8mUwU8M//+nhAD9+vv1QjljtjSwVJAAAAAEAGeg2pCvwDXs3NceKto9CEAAAAYQZqFSeEPJlMCGf/+nhACoe6b6KlZr36TAAAAGEGapknhDyZTAhn//p4QAblfcaF033W35wAAABlBmsdJ4Q8mUwIb//6nhABzweFOs6fdbfSBAAAAH0Ga6UnhDyZTBRE8N//+p4QAuWK1TH+pJ88Lh0+teggAAAAPAZ8IakK/AJbs8tw2bU0DAAAAGEGbCknhDyZTAhv//qeEALp7qcf4fVttCwAAABlBmytJ4Q8mUwId//6plgBb/klpZ0dTyLegAAAAEkGbT0nhDyZTAh3//qmWAACVgAAAAAxBn21FETwv/wAAsoEAAAAPAZ+MdEK/AI0qRxHZdlVJAAAAEAGfjmpCvwDcpWxersOR40EAAAAbQZuSSahBaJlMCHf//qmWAIgiw3RiEujN/X8fAAAAEkGfsEURLCv/ANy7T/o5IqjugAAAAA4Bn9FqQr8A3LtVzXqjuwAAABlBm9ZJqEFsmUwId//+qZYAiPx5/LtGbjn+AAAAEEGf9EUVLC//AKPQIKUMH0gAAAAPAZ4TdEK/AVroB0JyXb7hAAAADwGeFWpCvwDcktKkUCVR3QAAABJBmhpJqEFsmUwIb//+p4QAAScAAAAQQZ44RRUsL/8Ao+S2b9HuvwAAAA8Bnld0Qr8A3Mlm4NkvGWcAAAAPAZ5ZakK/ANyS0qRQJVHdAAAAHEGaXkmoQWyZTAhv//6nhACs+6n7rSzNTbotbBgAAAAQQZ58RRUsL/8AZxV43sEZOQAAAA8Bnpt0Qr8A19lXd5u1GcEAAAAQAZ6dakK/AI7mjeaYq2kOwAAAABpBmoBJqEFsmUwUTDP//p4QAp3tWI6+/pe8YAAAABABnr9qQr8Aiu0Qm4z69Nu5AAAAGEGaoUnhClJlMCG//qeEAKz7qcf4fVttIwAAABlBmsJJ4Q6JlMCG//6nhAD8nGf6rfMfiDPhAAAAGUGa40nhDyZTAh3//qmWAID9HNLOjqeRTcAAAAAZQZsHSeEPJlMCG//+p4QBnYrSDFd9E/P1swAAABZBnyVFETwv/wDnpqJv1xsNKTlvxGjBAAAAEAGfRHRCvwE29RInxZijVTEAAAAQAZ9GakK/AT+lG80xVtHGwQAAABpBm0pJqEFomUwIb//+p4QBngDUgwLHPqplQAAAAA9Bn2hFESwr/wE/bcCS0kAAAAANAZ+JakK/AT/lYeKWkwAAABNBm4xJqEFsmUwUTDf//qeEAAEnAAAAEQGfq2pCvwE/UagVnIJTkIcTAAAAEkGbrknhClJlMFLDf/6nhAABJwAAABEBn81qQr8BPxpMHoJmnkxPwwAAABNBm9BJ4Q6JlMFEw7/+qZYAAJWBAAAAEQGf72pCvwE/GkwegmaeTE/CAAAAE0Gb8knhDyZTBTw7//6plgAAlYAAAAARAZ4RakK/AT8aTB6CZp5MT8MAAAAWQZoWSeEPJlMCHf/+qZYCY9mPyuCDgAAAAA5BnjRFETwv/wFwTm8c0AAAABEBnlN0Qr8BPuyGvhFqDkIcTQAAABABnlVqQr8B6+0OhFjfYydgAAAAE0GaWkmoQWiZTAh3//6plgAAlYEAAAAMQZ54RREsL/8AALKBAAAAEAGel3RCvwE7so78AH26ZkAAAAAQAZ6ZakK/ATuyjvZ4+3TMgQAAABNBmp5JqEFsmUwId//+qZYAAJWAAAAADEGevEUVLC//AACygQAAABABntt0Qr8BO7KO/AB9umZBAAAAEAGe3WpCvwE7so72ePt0zIAAAAATQZrCSahBbJlMCHf//qmWAACVgAAAAAxBnuBFFSwv/wAAsoEAAAAQAZ8fdEK/ATuyjvwAfbpmQAAAABABnwFqQr8BO7KO9nj7dMyBAAAAE0GbBkmoQWyZTAh3//6plgAAlYAAAAAMQZ8kRRUsL/8AALKBAAAAEAGfQ3RCvwE7so78AH26ZkEAAAAQAZ9FakK/ATuyjvZ4+3TMgQAAABNBm0pJqEFsmUwId//+qZYAAJWBAAAADEGfaEUVLC//AACygAAAABABn4d0Qr8BO7KO/AB9umZAAAAAEAGfiWpCvwE7so72ePt0zIEAAAATQZuOSahBbJlMCHf//qmWAACVgAAAAAxBn6xFFSwv/wAAsoAAAAAQAZ/LdEK/ATuyjvwAfbpmQQAAABABn81qQr8BO7KO9nj7dMyBAAAAE0Gb0kmoQWyZTAh3//6plgAAlYEAAAAMQZ/wRRUsL/8AALKAAAAAEAGeD3RCvwE7so78AH26ZkAAAAAQAZ4RakK/ATuyjvZ4+3TMgQAAABxBmhZJqEFsmUwIb//+p4QBoe6n7RRhbMUI46soAAAAEEGeNEUVLC//AOenTv83bwgAAAAPAZ5TdEK/AT+MYuA/LPwhAAAADwGeVWpCvwE/bbpRpDxJ6wAAABpBmldJqEFsmUwId//+qZYAygmG6LdzH4Ci4QAAAB5BmntJ4QpSZTAh3/6plgIB2Y/N1VtzUf6N5QdYO6EAAAAVQZ6ZRTRML/8BWvXHt7cMPQ7jm6vgAAAAEAGeuHRCvwHfaVi2NiCiXHEAAAAPAZ66akK/AdG2FKNIeJKqAAAAE0Gav0moQWiZTAh3//6plgAAlYEAAAAMQZ7dRREsL/8AALKBAAAADwGe/HRCvwEu3HdHbfCpNwAAAA8Bnv5qQr8BLnmiC1Hl0g4AAAATQZrjSahBbJlMCHf//qmWAACVgQAAAAxBnwFFFSwv/wAAsoAAAAAPAZ8gdEK/AS7cd0dt8Kk3AAAADwGfImpCvwEueaILUeXSDgAAABNBmydJqEFsmUwId//+qZYAAJWBAAAADEGfRUUVLC//AACygQAAAA8Bn2R0Qr8BLtx3R23wqTcAAAAPAZ9makK/AS55ogtR5dIPAAAAE0Gba0moQWyZTAh3//6plgAAlYAAAAAMQZ+JRRUsL/8AALKAAAAADwGfqHRCvwEu3HdHbfCpNwAAAA8Bn6pqQr8BLnmiC1Hl0g4AAAATQZuvSahBbJlMCHf//qmWAACVgAAAAAxBn81FFSwv/wAAsoEAAAAPAZ/sdEK/AS7cd0dt8Kk3AAAADwGf7mpCvwEueaILUeXSDwAAABNBm/NJqEFsmUwId//+qZYAAJWAAAAADEGeEUUVLC//AACygAAAAA8BnjB0Qr8BLtx3R23wqTcAAAAPAZ4yakK/AS55ogtR5dIOAAAAE0GaN0moQWyZTAh3//6plgAAlYAAAAAUQZ5VRRUsL/8BWvXHt7cGFeuqcbEAAAAPAZ50dEK/AdJEPKGgZqHHAAAAEAGedmpCvwHRsv1R9A+AeMEAAAATQZp7SahBbJlMCHf//qmWAACVgQAAAAxBnplFFSwv/wAAsoAAAAAPAZ64dEK/AS7cd0dt8Kk3AAAADwGeumpCvwEueaILUeXSDgAAABNBmr9JqEFsmUwId//+qZYAAJWBAAAADEGe3UUVLC//AACygQAAAA8Bnvx0Qr8BLtx3R23wqTcAAAAPAZ7+akK/AS55ogtR5dIOAAAAE0Ga40moQWyZTAh3//6plgAAlYEAAAAMQZ8BRRUsL/8AALKAAAAADwGfIHRCvwEu3HdHbfCpNwAAAA8BnyJqQr8BLnmiC1Hl0g4AAAATQZsnSahBbJlMCHf//qmWAACVgQAAAAxBn0VFFSwv/wAAsoEAAAAPAZ9kdEK/AS7cd0dt8Kk3AAAADwGfZmpCvwEueaILUeXSDwAAABNBm2tJqEFsmUwId//+qZYAAJWAAAAADEGfiUUVLC//AACygAAAAA8Bn6h0Qr8BLtx3R23wqTcAAAAPAZ+qakK/AS55ogtR5dIOAAAAE0Gbr0moQWyZTAh3//6plgAAlYAAAAAMQZ/NRRUsL/8AALKBAAAADwGf7HRCvwEu3HdHbfCpNwAAAA8Bn+5qQr8BLnmiC1Hl0g8AAAATQZvzSahBbJlMCHf//qmWAACVgAAAAAxBnhFFFSwv/wAAsoAAAAAPAZ4wdEK/AS7cd0dt8Kk3AAAADwGeMmpCvwEueaILUeXSDgAAABNBmjdJqEFsmUwId//+qZYAAJWAAAAADEGeVUUVLC//AACygQAAAA8BnnR0Qr8BLtx3R23wqTcAAAAPAZ52akK/AS55ogtR5dIPAAAAE0Gae0moQWyZTAh3//6plgAAlYEAAAAMQZ6ZRRUsL/8AALKAAAAADwGeuHRCvwEu3HdHbfCpNwAAAA8BnrpqQr8BLnmiC1Hl0g4AAAATQZq/SahBbJlMCHf//qmWAACVgQAAAAxBnt1FFSwv/wAAsoEAAAAPAZ78dEK/AS7cd0dt8Kk3AAAADwGe/mpCvwEueaILUeXSDgAAABNBmuNJqEFsmUwId//+qZYAAJWBAAAADEGfAUUVLC//AACygAAAAA8BnyB0Qr8BLtx3R23wqTcAAAAPAZ8iakK/AS55ogtR5dIOAAAAEkGbJ0moQWyZTAhv//6nhAABJwAAAAxBn0VFFSwv/wAAsoEAAAAPAZ9kdEK/AS7cd0dt8Kk3AAAADwGfZmpCvwEueaILUeXSDwAAABpBm2hJqEFsmUwId//+qZYAwqjnWh6vueJnwAAAABJBm4xJ4QpSZTAh3/6plgAAlYAAAAAMQZ+qRTRML/8AALKBAAAAEAGfyXRCvwErVI78AH26a0AAAAAPAZ/LakK/AStUjdZ6s9IOAAAAE0Gb0EmoQWiZTAh3//6plgAAlYEAAAAMQZ/uRREsL/8AALKBAAAADwGeDXRCvwErVI4jsuypNwAAAA8Bng9qQr8BK1SN1nqz0g4AAAAcQZoUSahBbJlMCHf//qmWAcvVCyEm1w6MfnTK2AAAABBBnjJFFSwv/wFRoEVpRPg5AAAADwGeUXRCvwEutCAyS5SbgAAAABABnlNqQr8B0YXvSJpWbIuAAAAAGUGaWEmoQWyZTAh3//6plgHV4UfXVFMShJ0AAAAQQZ52RRUsL/8BUWWKhBPg4AAAABABnpV0Qr8BxeLM8r8lNk45AAAADwGel2pCvwEvDQPJgizZgQAAABNBmpxJqEFsmUwId//+qZYAAJWAAAAADEGeukUVLC//AACygQAAAA8Bntl0Qr8BK1SOI7LsqTcAAAAPAZ7bakK/AStUjdZ6s9IPAAAAEkGawEmoQWyZTAhv//6nhAABJwAAAAxBnv5FFSwv/wAAsoAAAAAPAZ8ddEK/AStUjiOy7Kk3AAAADwGfH2pCvwErVI3WerPSDwAAABJBmwRJqEFsmUwIZ//+nhAABHwAAAAMQZ8iRRUsL/8AALKBAAAADwGfQXRCvwErVI4jsuypNwAAAA8Bn0NqQr8BK1SN1nqz0g8AAAAZQZtFSahBbJlMCGf//p4QBdPQXOt0DFbH+QAAABhBm2ZJ4QpSZTAhn/6eEAWj19/G0rNe7gcAAAAaQZuJS+EIQ6JEYIKAfyAf2HgCFf/+OEAAEXEAAAAmQZ+nRRE8K/8Cr2PtQcTdqsNJJuWqhguAr4GMFnMPImnNdL4PSBgAAAAkAZ/IakK/Aq9j7UHE3arDSSblql/N2bRHMjzSQY2L+nbdwdDAAAAMMG1vb3YAAABsbXZoZAAAAAAAAAAAAAAAAAAAA+gAAB+QAAEAAAEAAAAAAAAAAAAAAAABAAAAAAAAAAAAAAAAAAAAAQAAAAAAAAAAAAAAAAAAQAAAAAAAAAAAAAAAAAAAAAAAAAAAAAAAAAAAAAAAAAIAAAtadHJhawAAAFx0a2hkAAAAAwAAAAAAAAAAAAAAAQAAAAAAAB+QAAAAAAAAAAAAAAAAAAAAAAABAAAAAAAAAAAAAAAAAAAAAQAAAAAAAAAAAAAAAAAAQAAAAAEQAAABEAAAAAAAJGVkdHMAAAAcZWxzdAAAAAAAAAABAAAfkAAABAAAAQAAAAAK0m1kaWEAAAAgbWRoZAAAAAAAAAAAAAAAAAAAMgAAAZQAVcQAAAAAAC1oZGxyAAAAAAAAAAB2aWRlAAAAAAAAAAAAAAAAVmlkZW9IYW5kbGVyAAAACn1taW5mAAAAFHZtaGQAAAABAAAAAAAAAAAAAAAkZGluZgAAABxkcmVmAAAAAAAAAAEAAAAMdXJsIAAAAAEAAAo9c3RibAAAAJVzdHNkAAAAAAAAAAEAAACFYXZjMQAAAAAAAAABAAAAAAAAAAAAAAAAAAAAAAEQARAASAAAAEgAAAAAAAAAAQAAAAAAAAAAAAAAAAAAAAAAAAAAAAAAAAAAAAAAAAAAABj//wAAAC9hdmNDAfQADf/hABdn9AANkZsoIhHQgAAAAwCAAAAZB4oUywEABWjr48RIAAAAGHN0dHMAAAAAAAAAAQAAAMoAAAIAAAAAFHN0c3MAAAAAAAAAAQAAAAEAAAYIY3R0cwAAAAAAAAC/AAAAAwAABAAAAAABAAAGAAAAAAEAAAIAAAAAAwAABAAAAAABAAAGAAAAAAEAAAIAAAAAAgAABAAAAAABAAAKAAAAAAEAAAQAAAAAAQAAAAAAAAABAAACAAAAAAEAAAgAAAAAAgAAAgAAAAABAAAKAAAAAAEAAAQAAAAAAQAAAAAAAAABAAACAAAAAAEAAAoAAAAAAQAABAAAAAABAAAAAAAAAAEAAAIAAAAAAQAACgAAAAABAAAEAAAAAAEAAAAAAAAAAQAAAgAAAAABAAAGAAAAAAEAAAIAAAAAAwAABAAAAAABAAAKAAAAAAEAAAQAAAAAAQAAAAAAAAABAAACAAAAAAEAAAgAAAAAAgAAAgAAAAABAAAGAAAAAAEAAAIAAAAAAQAABgAAAAABAAACAAAAAAEAAAYAAAAAAQAAAgAAAAABAAAGAAAAAAEAAAIAAAAAAQAACgAAAAABAAAEAAAAAAEAAAAAAAAAAQAAAgAAAAABAAAKAAAAAAEAAAQAAAAAAQAAAAAAAAABAAACAAAAAAEAAAoAAAAAAQAABAAAAAABAAAAAAAAAAEAAAIAAAAAAQAACgAAAAABAAAEAAAAAAEAAAAAAAAAAQAAAgAAAAABAAAKAAAAAAEAAAQAAAAAAQAAAAAAAAABAAACAAAAAAEAAAoAAAAAAQAABAAAAAABAAAAAAAAAAEAAAIAAAAAAQAACgAAAAABAAAEAAAAAAEAAAAAAAAAAQAAAgAAAAABAAAKAAAAAAEAAAQAAAAAAQAAAAAAAAABAAACAAAAAAEAAAoAAAAAAQAABAAAAAABAAAAAAAAAAEAAAIAAAAAAQAABAAAAAABAAAKAAAAAAEAAAQAAAAAAQAAAAAAAAABAAACAAAAAAEAAAoAAAAAAQAABAAAAAABAAAAAAAAAAEAAAIAAAAAAQAACgAAAAABAAAEAAAAAAEAAAAAAAAAAQAAAgAAAAABAAAKAAAAAAEAAAQAAAAAAQAAAAAAAAABAAACAAAAAAEAAAoAAAAAAQAABAAAAAABAAAAAAAAAAEAAAIAAAAAAQAACgAAAAABAAAEAAAAAAEAAAAAAAAAAQAAAgAAAAABAAAKAAAAAAEAAAQAAAAAAQAAAAAAAAABAAACAAAAAAEAAAoAAAAAAQAABAAAAAABAAAAAAAAAAEAAAIAAAAAAQAACgAAAAABAAAEAAAAAAEAAAAAAAAAAQAAAgAAAAABAAAKAAAAAAEAAAQAAAAAAQAAAAAAAAABAAACAAAAAAEAAAoAAAAAAQAABAAAAAABAAAAAAAAAAEAAAIAAAAAAQAACgAAAAABAAAEAAAAAAEAAAAAAAAAAQAAAgAAAAABAAAKAAAAAAEAAAQAAAAAAQAAAAAAAAABAAACAAAAAAEAAAoAAAAAAQAABAAAAAABAAAAAAAAAAEAAAIAAAAAAQAACgAAAAABAAAEAAAAAAEAAAAAAAAAAQAAAgAAAAABAAAKAAAAAAEAAAQAAAAAAQAAAAAAAAABAAACAAAAAAEAAAoAAAAAAQAABAAAAAABAAAAAAAAAAEAAAIAAAAAAQAACgAAAAABAAAEAAAAAAEAAAAAAAAAAQAAAgAAAAABAAAKAAAAAAEAAAQAAAAAAQAAAAAAAAABAAACAAAAAAEAAAoAAAAAAQAABAAAAAABAAAAAAAAAAEAAAIAAAAAAQAABAAAAAABAAAKAAAAAAEAAAQAAAAAAQAAAAAAAAABAAACAAAAAAEAAAoAAAAAAQAABAAAAAABAAAAAAAAAAEAAAIAAAAAAQAACgAAAAABAAAEAAAAAAEAAAAAAAAAAQAAAgAAAAABAAAKAAAAAAEAAAQAAAAAAQAAAAAAAAABAAACAAAAAAEAAAoAAAAAAQAABAAAAAABAAAAAAAAAAEAAAIAAAAAAQAACgAAAAABAAAEAAAAAAEAAAAAAAAAAQAAAgAAAAABAAAKAAAAAAEAAAQAAAAAAQAAAAAAAAABAAACAAAAAAIAAAQAAAAAAQAACAAAAAACAAACAAAAABxzdHNjAAAAAAAAAAEAAAABAAAAygAAAAEAAAM8c3RzegAAAAAAAAAAAAAAygAABZAAAAAXAAAAGwAAACAAAAAUAAAAHAAAABwAAAAdAAAAIwAAABMAAAAcAAAAHQAAABYAAAAQAAAAEwAAABQAAAAfAAAAFgAAABIAAAAdAAAAFAAAABMAAAATAAAAFgAAABQAAAATAAAAEwAAACAAAAAUAAAAEwAAABQAAAAeAAAAFAAAABwAAAAdAAAAHQAAAB0AAAAaAAAAFAAAABQAAAAeAAAAEwAAABEAAAAXAAAAFQAAABYAAAAVAAAAFwAAABUAAAAXAAAAFQAAABoAAAASAAAAFQAAABQAAAAXAAAAEAAAABQAAAAUAAAAFwAAABAAAAAUAAAAFAAAABcAAAAQAAAAFAAAABQAAAAXAAAAEAAAABQAAAAUAAAAFwAAABAAAAAUAAAAFAAAABcAAAAQAAAAFAAAABQAAAAXAAAAEAAAABQAAAAUAAAAIAAAABQAAAATAAAAEwAAAB4AAAAiAAAAGQAAABQAAAATAAAAFwAAABAAAAATAAAAEwAAABcAAAAQAAAAEwAAABMAAAAXAAAAEAAAABMAAAATAAAAFwAAABAAAAATAAAAEwAAABcAAAAQAAAAEwAAABMAAAAXAAAAEAAAABMAAAATAAAAFwAAABgAAAATAAAAFAAAABcAAAAQAAAAEwAAABMAAAAXAAAAEAAAABMAAAATAAAAFwAAABAAAAATAAAAEwAAABcAAAAQAAAAEwAAABMAAAAXAAAAEAAAABMAAAATAAAAFwAAABAAAAATAAAAEwAAABcAAAAQAAAAEwAAABMAAAAXAAAAEAAAABMAAAATAAAAFwAAABAAAAATAAAAEwAAABcAAAAQAAAAEwAAABMAAAAXAAAAEAAAABMAAAATAAAAFgAAABAAAAATAAAAEwAAAB4AAAAWAAAAEAAAABQAAAATAAAAFwAAABAAAAATAAAAEwAAACAAAAAUAAAAEwAAABQAAAAdAAAAFAAAABQAAAATAAAAFwAAABAAAAATAAAAEwAAABYAAAAQAAAAEwAAABMAAAAWAAAAEAAAABMAAAATAAAAHQAAABwAAAAeAAAAKgAAACgAAAAUc3RjbwAAAAAAAAABAAAAMAAAAGJ1ZHRhAAAAWm1ldGEAAAAAAAAAIWhkbHIAAAAAAAAAAG1kaXJhcHBsAAAAAAAAAAAAAAAALWlsc3QAAAAlqXRvbwAAAB1kYXRhAAAAAQAAAABMYXZmNTcuODMuMTAw\" type=\"video/mp4\" />\n",
       "             </video>"
      ],
      "text/plain": [
       "<IPython.core.display.HTML object>"
      ]
     },
     "execution_count": 12,
     "metadata": {
      "tags": []
     },
     "output_type": "execute_result"
    }
   ],
   "source": [
    "env = Environment(grid_size=size, max_time=T, temperature=0.3)\n",
    "agent = DQN_FC(size, lr=.1, epsilon = 0.1, memory_size=2000, batch_size = 32)\n",
    "train(agent, env, epochs_train, prefix='fc_train')\n",
    "HTML(display_videos('fc_train50.mp4'))"
   ]
  },
  {
   "cell_type": "markdown",
   "metadata": {
    "colab_type": "text",
    "id": "MRGQ1Ic51klh"
   },
   "source": [
    "***\n",
    "***\n",
    "__Question 8__ Implement the DQN training algorithm using a CNN (for example, 2 convolutional layers and one final fully connected layer)."
   ]
  },
  {
   "cell_type": "code",
   "execution_count": 13,
   "metadata": {
    "colab": {},
    "colab_type": "code",
    "id": "MTmND6up1klp"
   },
   "outputs": [],
   "source": [
    "class DQN_CNN(DQN):\n",
    "    def __init__(self, *args,lr=0.1,**kwargs):\n",
    "        super(DQN_CNN, self).__init__(*args,**kwargs)\n",
    "        \n",
    "        # CNN Model\n",
    "        model = Sequential()\n",
    "        model.add(Conv2D(64, kernel_size=3, activation='relu', input_shape=(5,5,self.n_state)))\n",
    "        model.add(Conv2D(32, kernel_size=3, activation='relu'))\n",
    "        model.add(Flatten())\n",
    "        model.add(Dense(4))\n",
    "        \n",
    "        model.compile(sgd(lr=lr, decay=1e-4, momentum=0.0), \"mse\")\n",
    "        self.model = model"
   ]
  },
  {
   "cell_type": "code",
   "execution_count": 14,
   "metadata": {
    "colab": {
     "base_uri": "https://localhost:8080/",
     "height": 1000
    },
    "colab_type": "code",
    "id": "Yg3zGbDc1kmL",
    "outputId": "5ee0b5c3-d56c-4f20-c3cb-ba3180019640"
   },
   "outputs": [
    {
     "name": "stdout",
     "output_type": "stream",
     "text": [
      "Epoch 000/051 | Loss 0.0052 | Win/lose count 6.0/4.0 (2.0)\n",
      "Epoch 001/051 | Loss 0.0014 | Win/lose count 2.0/3.0 (-1.0)\n",
      "Epoch 002/051 | Loss 0.0025 | Win/lose count 5.0/2.0 (3.0)\n",
      "Epoch 003/051 | Loss 0.0028 | Win/lose count 4.0/2.0 (2.0)\n",
      "Epoch 004/051 | Loss 0.0010 | Win/lose count 1.5/1.0 (0.5)\n",
      "Epoch 005/051 | Loss 0.0014 | Win/lose count 3.0/5.0 (-2.0)\n",
      "Epoch 006/051 | Loss 0.0020 | Win/lose count 1.5/5.0 (-3.5)\n",
      "Epoch 007/051 | Loss 0.0020 | Win/lose count 3.5/6.0 (-2.5)\n",
      "Epoch 008/051 | Loss 0.0394 | Win/lose count 1.5/2.0 (-0.5)\n",
      "Epoch 009/051 | Loss 0.1089 | Win/lose count 5.0/2.0 (3.0)\n",
      "Epoch 010/051 | Loss 0.0020 | Win/lose count 5.0/0 (5.0)\n",
      "Epoch 011/051 | Loss 0.0045 | Win/lose count 0.5/4.0 (-3.5)\n",
      "Epoch 012/051 | Loss 0.0035 | Win/lose count 3.5/6.0 (-2.5)\n",
      "Epoch 013/051 | Loss 0.0933 | Win/lose count 2.0/2.0 (0.0)\n",
      "Epoch 014/051 | Loss 0.0021 | Win/lose count 3.5/0 (3.5)\n",
      "Epoch 015/051 | Loss 0.0008 | Win/lose count 2.0/2.0 (0.0)\n",
      "Epoch 016/051 | Loss 0.0010 | Win/lose count 4.0/0 (4.0)\n",
      "Epoch 017/051 | Loss 0.0593 | Win/lose count 1.0/0 (1.0)\n",
      "Epoch 018/051 | Loss 0.0015 | Win/lose count 5.0/0 (5.0)\n",
      "Epoch 019/051 | Loss 0.0032 | Win/lose count 9.5/3.0 (6.5)\n",
      "Epoch 020/051 | Loss 0.0621 | Win/lose count 4.5/6.0 (-1.5)\n",
      "Epoch 021/051 | Loss 0.0010 | Win/lose count 4.0/4.0 (0.0)\n",
      "Epoch 022/051 | Loss 0.0034 | Win/lose count 7.0/3.0 (4.0)\n",
      "Epoch 023/051 | Loss 0.0031 | Win/lose count 6.0/4.0 (2.0)\n",
      "Epoch 024/051 | Loss 0.0017 | Win/lose count 9.5/0 (9.5)\n",
      "Epoch 025/051 | Loss 0.0488 | Win/lose count 10.5/1.0 (9.5)\n",
      "Epoch 026/051 | Loss 0.0031 | Win/lose count 13.0/4.0 (9.0)\n",
      "Epoch 027/051 | Loss 0.0040 | Win/lose count 2.5/0 (2.5)\n",
      "Epoch 028/051 | Loss 0.0020 | Win/lose count 13.5/3.0 (10.5)\n",
      "Epoch 029/051 | Loss 0.0033 | Win/lose count 16.0/1.0 (15.0)\n",
      "Epoch 030/051 | Loss 0.0014 | Win/lose count 10.0/2.0 (8.0)\n",
      "Epoch 031/051 | Loss 0.0026 | Win/lose count 13.0/5.0 (8.0)\n",
      "Epoch 032/051 | Loss 0.0015 | Win/lose count 15.5/4.0 (11.5)\n",
      "Epoch 033/051 | Loss 0.0016 | Win/lose count 21.5/5.0 (16.5)\n",
      "Epoch 034/051 | Loss 0.0028 | Win/lose count 4.5/0 (4.5)\n",
      "Epoch 035/051 | Loss 0.0023 | Win/lose count 12.0/3.0 (9.0)\n",
      "Epoch 036/051 | Loss 0.0025 | Win/lose count 7.0/2.0 (5.0)\n",
      "Epoch 037/051 | Loss 0.0035 | Win/lose count 10.5/2.0 (8.5)\n",
      "Epoch 038/051 | Loss 0.0100 | Win/lose count 13.0/3.0 (10.0)\n",
      "Epoch 039/051 | Loss 0.0486 | Win/lose count 12.5/3.0 (9.5)\n",
      "Epoch 040/051 | Loss 0.0013 | Win/lose count 10.0/5.0 (5.0)\n",
      "Epoch 041/051 | Loss 0.0026 | Win/lose count 7.0/3.0 (4.0)\n",
      "Epoch 042/051 | Loss 0.0031 | Win/lose count 10.5/1.0 (9.5)\n",
      "Epoch 043/051 | Loss 0.0031 | Win/lose count 7.0/2.0 (5.0)\n",
      "Epoch 044/051 | Loss 0.0022 | Win/lose count 16.5/4.0 (12.5)\n",
      "Epoch 045/051 | Loss 0.0039 | Win/lose count 17.0/4.0 (13.0)\n",
      "Epoch 046/051 | Loss 0.0027 | Win/lose count 9.0/1.0 (8.0)\n",
      "Epoch 047/051 | Loss 0.1053 | Win/lose count 13.5/3.0 (10.5)\n",
      "Epoch 048/051 | Loss 0.0954 | Win/lose count 12.0/3.0 (9.0)\n",
      "Epoch 049/051 | Loss 0.0090 | Win/lose count 3.0/0 (3.0)\n",
      "Epoch 050/051 | Loss 0.0894 | Win/lose count 9.0/2.0 (7.0)\n"
     ]
    },
    {
     "data": {
      "text/html": [
       "<video alt=\"test\" controls>\n",
       "                <source src=\"data:video/mp4;base64,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\" type=\"video/mp4\" />\n",
       "             </video>"
      ],
      "text/plain": [
       "<IPython.core.display.HTML object>"
      ]
     },
     "execution_count": 14,
     "metadata": {
      "tags": []
     },
     "output_type": "execute_result"
    }
   ],
   "source": [
    "env = Environment(grid_size=size, max_time=T, temperature=0.3)\n",
    "agent = DQN_CNN(size, lr=.1, epsilon = 0.1, memory_size=2000, batch_size = 32)\n",
    "train(agent,env,epochs_train,prefix='cnn_train')\n",
    "HTML(display_videos('cnn_train50.mp4'))"
   ]
  },
  {
   "cell_type": "markdown",
   "metadata": {
    "colab_type": "text",
    "id": "oZFaJR6p1kmm"
   },
   "source": [
    "***\n",
    "***\n",
    "__Question 9__ Test both algorithms and compare their performances. Which issue(s) do you observe? Observe also different behaviors by changing the temperature."
   ]
  },
  {
   "cell_type": "markdown",
   "metadata": {
    "colab_type": "text",
    "id": "I7Kzxe4MMX4O"
   },
   "source": [
    "The DQN_CNN algorithm outperforms the DQN_FC algorithm, but both suffer from an exporation issue. They tend to visit cells that have been already visited instead of visiting new cells. Adding a malus to visited cells may solve this issue.\n",
    "\n",
    "Increasing the temperature improves the test score of the algorithms. This is because the expected gain of visiting a $cell_i$ is positive for $T>\\frac{1}{2}$ and because there is less empty cells so the algorithm can learn more by checking the neighboor $5^2$ cells.\n",
    "\n",
    "According to the code in the class ```Environment```:\n",
    "\n",
    "$P(cell_i=\\frac{1}{2})=P(cell_i=bonus)=T$\n",
    "\n",
    "$P(cell_i=-1)=P(cell_i=malus, cell_i \\neq bonus)=T(1-T)$\n",
    "\n",
    "$P(cell_i=0)=P(cell_i \\neq malus, cell_i \\neq bonus)=(1-T)^2$\n",
    "\n",
    "Hence:\n",
    "\n",
    "$E_{P}(cell_i)=\\frac{T}{2}-T(1-T)=T(T-\\frac{1}{2})$"
   ]
  },
  {
   "cell_type": "code",
   "execution_count": 15,
   "metadata": {
    "colab": {
     "base_uri": "https://localhost:8080/",
     "height": 459
    },
    "colab_type": "code",
    "id": "Wk3l-ir91kmt",
    "outputId": "2f507671-686e-472c-beb4-282d32b365e6"
   },
   "outputs": [
    {
     "name": "stdout",
     "output_type": "stream",
     "text": [
      "Test of the CNN\n",
      "Win/lose count 11.5/5.0. Average score (6.5)\n",
      "Win/lose count 3.5/3.0. Average score (3.5)\n",
      "Win/lose count 3.5/0. Average score (3.5)\n",
      "Win/lose count 2.0/0. Average score (3.125)\n",
      "Win/lose count 7.0/3.0. Average score (3.3)\n",
      "Win/lose count 9.0/0. Average score (4.25)\n",
      "Win/lose count 15.0/4.0. Average score (5.214285714285714)\n",
      "Win/lose count 5.0/4.0. Average score (4.6875)\n",
      "Win/lose count 2.0/1.0. Average score (4.277777777777778)\n",
      "Win/lose count 11.0/2.0. Average score (4.75)\n",
      "Win/lose count 5.5/3.0. Average score (4.545454545454546)\n",
      "Final score: 4.545454545454546\n",
      "Test of the FC\n",
      "Win/lose count 1.5/4.0. Average score (-2.5)\n",
      "Win/lose count 3.5/0. Average score (0.5)\n",
      "Win/lose count 3.5/7.0. Average score (-0.8333333333333334)\n",
      "Win/lose count 1.5/1.0. Average score (-0.5)\n",
      "Win/lose count 3.5/2.0. Average score (-0.1)\n",
      "Win/lose count 1.5/4.0. Average score (-0.5)\n",
      "Win/lose count 3.0/2.0. Average score (-0.2857142857142857)\n",
      "Win/lose count 3.0/3.0. Average score (-0.25)\n",
      "Win/lose count 1.0/1.0. Average score (-0.2222222222222222)\n",
      "Win/lose count 3.5/4.0. Average score (-0.25)\n",
      "Win/lose count 6.0/7.0. Average score (-0.3181818181818182)\n",
      "Final score: -0.3181818181818182\n"
     ]
    }
   ],
   "source": [
    "env = Environment(grid_size=size, max_time=T,temperature=0.3)\n",
    "agent_cnn = DQN_CNN(size, lr=.1, epsilon = 0.1, memory_size=2000, batch_size = 32)\n",
    "agent_cnn.load(name_weights='cnn_trainmodel.h5',name_model='cnn_trainmodel.json')\n",
    "\n",
    "agent_fc = DQN_FC(size, lr=.1, epsilon = 0.1, memory_size=2000, batch_size = 32)\n",
    "agent_cnn.load(name_weights='fc_trainmodel.h5',name_model='fc_trainmodel.json')\n",
    "print('Test of the CNN')\n",
    "test(agent_cnn,env,epochs_test,prefix='cnn_test')\n",
    "print('Test of the FC')\n",
    "test(agent_fc,env,epochs_test,prefix='fc_test')"
   ]
  },
  {
   "cell_type": "code",
   "execution_count": 16,
   "metadata": {
    "colab": {
     "base_uri": "https://localhost:8080/",
     "height": 293
    },
    "colab_type": "code",
    "id": "HETPMbOo1knJ",
    "outputId": "eccd3c34-0e17-4ca1-9a5a-d4853d7ecd95"
   },
   "outputs": [
    {
     "data": {
      "text/html": [
       "<video alt=\"test\" controls>\n",
       "                <source src=\"data:video/mp4;base64,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\" type=\"video/mp4\" />\n",
       "             </video>"
      ],
      "text/plain": [
       "<IPython.core.display.HTML object>"
      ]
     },
     "execution_count": 16,
     "metadata": {
      "tags": []
     },
     "output_type": "execute_result"
    }
   ],
   "source": [
    "HTML(display_videos('cnn_test10.mp4'))"
   ]
  },
  {
   "cell_type": "code",
   "execution_count": 17,
   "metadata": {
    "colab": {
     "base_uri": "https://localhost:8080/",
     "height": 293
    },
    "colab_type": "code",
    "id": "fDaB3ryh1knk",
    "outputId": "81260d38-3e66-4df8-e7e8-d8a1e1102836"
   },
   "outputs": [
    {
     "data": {
      "text/html": [
       "<video alt=\"test\" controls>\n",
       "                <source src=\"data:video/mp4;base64,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\" type=\"video/mp4\" />\n",
       "             </video>"
      ],
      "text/plain": [
       "<IPython.core.display.HTML object>"
      ]
     },
     "execution_count": 17,
     "metadata": {
      "tags": []
     },
     "output_type": "execute_result"
    }
   ],
   "source": [
    "HTML(display_videos('fc_test10.mp4'))"
   ]
  },
  {
   "cell_type": "markdown",
   "metadata": {
    "colab_type": "text",
    "id": "zrKJr0F71koQ"
   },
   "source": [
    "***\n",
    "\n",
    "The algorithm tends to not explore the map which can be an issue. We propose two ideas in order to encourage exploration:\n",
    "1. Incorporating a decreasing $\\epsilon$-greedy exploration. You can use the method ```set_epsilon```\n",
    "2. Append via the environment a new state that describes if a cell has been visited or not\n",
    "\n",
    "***\n",
    "__Question 10__ Design a new ```train_explore``` function and environment class ```EnvironmentExploring``` to tackle the issue of exploration.\n",
    "\n",
    "The ideas above did in fact solve the exporation issue. The performance of the algorithm improved significantly and the test score reached 12.0."
   ]
  },
  {
   "cell_type": "code",
   "execution_count": 18,
   "metadata": {
    "colab": {},
    "colab_type": "code",
    "id": "9ww7e5zB1koX"
   },
   "outputs": [],
   "source": [
    "def train_explore(agent,env,epoch,epsilon_decay=0.9,prefix=''):\n",
    "    # Number of won games\n",
    "    score = 0\n",
    "    loss = 0\n",
    "\n",
    "    for e in range(epoch):\n",
    "        # At each epoch, we restart to a fresh game and get the initial state\n",
    "        state = env.reset()\n",
    "        # This assumes that the games will terminate\n",
    "        game_over = False\n",
    "        # Decreasing e-greedy exploration\n",
    "        agent.set_epsilon(agent.epsilon*epsilon_decay)\n",
    "\n",
    "        win = 0\n",
    "        lose = 0\n",
    "\n",
    "        while not game_over:\n",
    "            # The agent performs an action\n",
    "            action = agent.act(state)\n",
    "\n",
    "            # Apply an action to the environment, get the next state, the reward\n",
    "            # and if the games end\n",
    "            prev_state = state\n",
    "            state, reward, game_over = env.act(action, train=True)\n",
    "\n",
    "            # Update the counters\n",
    "            if reward > 0:\n",
    "                win = win + reward\n",
    "            if reward < 0:\n",
    "                lose = lose - reward\n",
    "\n",
    "            # Apply the reinforcement strategy\n",
    "            loss = agent.reinforce(prev_state, state,  action, reward, game_over)\n",
    "\n",
    "        # Save as a mp4\n",
    "        if e % 10 == 0:\n",
    "            env.draw(prefix+str(e))\n",
    "\n",
    "        # Update stats\n",
    "        score += win-lose\n",
    "\n",
    "        print(\"Epoch {:03d}/{:03d} | Loss {:.4f} | Win/lose count {}/{} ({})\"\n",
    "              .format(e, epoch, loss, win, lose, win-lose))\n",
    "        agent.save(name_weights=prefix+'model.h5',name_model=prefix+'model.json')\n",
    "\n",
    "class EnvironmentExploring(Environment):\n",
    "    def __init__(self, *args, **kwargs):\n",
    "        super(EnvironmentExploring, self).__init__(*args,**kwargs) \n",
    "        self.malus_position = np.zeros((self.grid_size, self.grid_size))\n",
    "\n",
    "    def act(self, action, train=False):\n",
    "        \"\"\"This function returns the new state, reward and decides if the\n",
    "        game ends.\"\"\"\n",
    "\n",
    "        self.get_frame(int(self.t))\n",
    "\n",
    "        self.position = np.zeros((self.grid_size, self.grid_size))\n",
    "\n",
    "        self.position[0:2,:]= -1\n",
    "        self.position[:,0:2] = -1\n",
    "        self.position[-2:, :] = -1\n",
    "        self.position[:, -2:] = -1\n",
    "\n",
    "        self.position[self.x, self.y] = 1\n",
    "        if action == 0:\n",
    "            if self.x == self.grid_size-3:\n",
    "                self.x = self.x-1\n",
    "            else:\n",
    "                self.x = self.x + 1\n",
    "        elif action == 1:\n",
    "            if self.x == 2:\n",
    "                self.x = self.x+1\n",
    "            else:\n",
    "                self.x = self.x-1\n",
    "        elif action == 2:\n",
    "            if self.y == self.grid_size - 3:\n",
    "                self.y = self.y - 1\n",
    "            else:\n",
    "                self.y = self.y + 1\n",
    "        elif action == 3:\n",
    "            if self.y == 2:\n",
    "                self.y = self.y + 1\n",
    "            else:\n",
    "                self.y = self.y - 1\n",
    "        else:\n",
    "            RuntimeError('Error: action not recognized')\n",
    "\n",
    "        self.t = self.t + 1\n",
    "        reward = self.board[self.x, self.y]\n",
    "        self.board[self.x, self.y] = 0\n",
    "        if train:\n",
    "            reward -= self.malus_position[self.x, self.y]\n",
    "        self.malus_position[self.x, self.y] = 0.1\n",
    "        game_over = self.t > self.max_time\n",
    "        state = np.concatenate((self.malus_position.reshape(self.grid_size, self.grid_size,1),\n",
    "                                self.board.reshape(self.grid_size, self.grid_size,1),\n",
    "                                self.position.reshape(self.grid_size, self.grid_size,1)),axis=2)\n",
    "        state = state[self.x-2:self.x+3,self.y-2:self.y+3,:]\n",
    "\n",
    "        return state, reward, game_over\n",
    "\n",
    "    def reset(self):\n",
    "        \"\"\"This function resets the game and returns the initial state\"\"\"\n",
    "\n",
    "        self.x = np.random.randint(3, self.grid_size-3, size=1)[0]\n",
    "        self.y = np.random.randint(3, self.grid_size-3, size=1)[0]\n",
    "\n",
    "        bonus = 0.5*np.random.binomial(1,self.temperature,size=self.grid_size**2)\n",
    "        bonus = bonus.reshape(self.grid_size,self.grid_size)\n",
    "\n",
    "        malus = -1.0*np.random.binomial(1,self.temperature,size=self.grid_size**2)\n",
    "        malus = malus.reshape(self.grid_size, self.grid_size)\n",
    "\n",
    "        self.to_draw = np.zeros((self.max_time+2, self.grid_size*self.scale, self.grid_size*self.scale, 3))\n",
    "\n",
    "        malus[bonus>0]=0\n",
    "\n",
    "        self.board = bonus + malus\n",
    "\n",
    "        self.malus_position = np.zeros((self.grid_size, self.grid_size))\n",
    "        self.position = np.zeros((self.grid_size, self.grid_size))\n",
    "        self.position[0:2,:]= -1\n",
    "        self.position[:,0:2] = -1\n",
    "        self.position[-2:, :] = -1\n",
    "        self.position[:, -2:] = -1\n",
    "        self.board[self.x,self.y] = 0\n",
    "        self.t = 0\n",
    "\n",
    "        state = np.concatenate((self.malus_position.reshape(self.grid_size, self.grid_size,1),\n",
    "                                self.board.reshape(self.grid_size, self.grid_size,1),\n",
    "                                self.position.reshape(self.grid_size, self.grid_size,1)),axis=2)\n",
    "\n",
    "        state = state[self.x - 2:self.x + 3, self.y - 2:self.y + 3, :]\n",
    "        return state"
   ]
  },
  {
   "cell_type": "code",
   "execution_count": 19,
   "metadata": {
    "colab": {
     "base_uri": "https://localhost:8080/",
     "height": 1000
    },
    "colab_type": "code",
    "id": "8zKyKGDD1kow",
    "outputId": "99b2895b-29e0-491d-bcde-facb481efabd"
   },
   "outputs": [
    {
     "name": "stdout",
     "output_type": "stream",
     "text": [
      "Epoch 000/051 | Loss 0.0066 | Win/lose count 5.5/20.000000000000014 (-14.500000000000014)\n",
      "Epoch 001/051 | Loss 0.0124 | Win/lose count 6.0/21.50000000000003 (-15.500000000000028)\n",
      "Epoch 002/051 | Loss 0.0031 | Win/lose count 5.5/20.200000000000028 (-14.700000000000028)\n",
      "Epoch 003/051 | Loss 0.0070 | Win/lose count 8.5/19.100000000000012 (-10.600000000000012)\n",
      "Epoch 004/051 | Loss 0.0017 | Win/lose count 8.0/21.000000000000036 (-13.000000000000036)\n",
      "Epoch 005/051 | Loss 0.0049 | Win/lose count 4.5/17.399999999999977 (-12.899999999999977)\n",
      "Epoch 006/051 | Loss 0.0070 | Win/lose count 6.5/20.400000000000034 (-13.900000000000034)\n",
      "Epoch 007/051 | Loss 0.0023 | Win/lose count 5.5/18.29999999999999 (-12.79999999999999)\n",
      "Epoch 008/051 | Loss 0.0082 | Win/lose count 9.0/18.4 (-9.399999999999999)\n",
      "Epoch 009/051 | Loss 0.0041 | Win/lose count 19.0/12.69999999999997 (6.300000000000029)\n",
      "Epoch 010/051 | Loss 0.0059 | Win/lose count 6.5/19.90000000000002 (-13.40000000000002)\n",
      "Epoch 011/051 | Loss 0.0056 | Win/lose count 4.5/18.599999999999998 (-14.099999999999998)\n",
      "Epoch 012/051 | Loss 0.0024 | Win/lose count 4.5/18.699999999999996 (-14.199999999999996)\n",
      "Epoch 013/051 | Loss 0.0036 | Win/lose count 10.0/15.89999999999996 (-5.8999999999999595)\n",
      "Epoch 014/051 | Loss 0.0068 | Win/lose count 12.0/16.79999999999997 (-4.799999999999969)\n",
      "Epoch 015/051 | Loss 0.0316 | Win/lose count 24.0/11.299999999999976 (12.700000000000024)\n",
      "Epoch 016/051 | Loss 0.0072 | Win/lose count 20.0/13.59999999999997 (6.4000000000000306)\n",
      "Epoch 017/051 | Loss 0.0026 | Win/lose count 10.0/15.099999999999962 (-5.099999999999962)\n",
      "Epoch 018/051 | Loss 0.0059 | Win/lose count 12.0/14.899999999999963 (-2.899999999999963)\n",
      "Epoch 019/051 | Loss 0.0076 | Win/lose count 14.5/14.399999999999965 (0.10000000000003517)\n",
      "Epoch 020/051 | Loss 0.0200 | Win/lose count 3.0/17.899999999999984 (-14.899999999999984)\n",
      "Epoch 021/051 | Loss 0.0069 | Win/lose count 8.5/16.19999999999996 (-7.69999999999996)\n",
      "Epoch 022/051 | Loss 0.0068 | Win/lose count 20.0/12.99999999999997 (7.00000000000003)\n",
      "Epoch 023/051 | Loss 0.0022 | Win/lose count 18.0/13.499999999999972 (4.500000000000028)\n",
      "Epoch 024/051 | Loss 0.0199 | Win/lose count 7.5/18.29999999999999 (-10.79999999999999)\n",
      "Epoch 025/051 | Loss 0.0100 | Win/lose count 13.5/16.59999999999997 (-3.0999999999999694)\n",
      "Epoch 026/051 | Loss 0.0100 | Win/lose count 15.0/14.699999999999964 (0.30000000000003624)\n",
      "Epoch 027/051 | Loss 0.0085 | Win/lose count 17.0/13.399999999999968 (3.6000000000000316)\n",
      "Epoch 028/051 | Loss 0.0078 | Win/lose count 15.5/13.199999999999969 (2.300000000000031)\n",
      "Epoch 029/051 | Loss 0.0091 | Win/lose count 24.5/10.499999999999979 (14.000000000000021)\n",
      "Epoch 030/051 | Loss 0.0082 | Win/lose count 5.0/18.19999999999999 (-13.199999999999989)\n",
      "Epoch 031/051 | Loss 0.0056 | Win/lose count 21.5/10.899999999999977 (10.600000000000023)\n",
      "Epoch 032/051 | Loss 0.0047 | Win/lose count 16.5/12.099999999999973 (4.400000000000027)\n",
      "Epoch 033/051 | Loss 0.0053 | Win/lose count 22.0/13.699999999999967 (8.300000000000033)\n",
      "Epoch 034/051 | Loss 0.0087 | Win/lose count 16.0/13.399999999999975 (2.6000000000000245)\n",
      "Epoch 035/051 | Loss 0.0092 | Win/lose count 22.5/11.699999999999974 (10.800000000000026)\n",
      "Epoch 036/051 | Loss 0.0192 | Win/lose count 8.0/19.500000000000014 (-11.500000000000014)\n",
      "Epoch 037/051 | Loss 0.0113 | Win/lose count 12.5/15.499999999999963 (-2.9999999999999627)\n",
      "Epoch 038/051 | Loss 0.0279 | Win/lose count 17.0/12.099999999999973 (4.900000000000027)\n",
      "Epoch 039/051 | Loss 0.0047 | Win/lose count 22.0/13.199999999999969 (8.800000000000031)\n",
      "Epoch 040/051 | Loss 0.0079 | Win/lose count 2.0/19.400000000000006 (-17.400000000000006)\n",
      "Epoch 041/051 | Loss 0.0108 | Win/lose count 16.5/14.299999999999969 (2.2000000000000313)\n",
      "Epoch 042/051 | Loss 0.0108 | Win/lose count 20.5/12.699999999999974 (7.800000000000026)\n",
      "Epoch 043/051 | Loss 0.0100 | Win/lose count 19.5/11.599999999999975 (7.900000000000025)\n",
      "Epoch 044/051 | Loss 0.0052 | Win/lose count 19.0/11.399999999999975 (7.6000000000000245)\n",
      "Epoch 045/051 | Loss 0.0061 | Win/lose count 24.5/10.59999999999998 (13.90000000000002)\n",
      "Epoch 046/051 | Loss 0.0051 | Win/lose count 19.0/13.299999999999972 (5.700000000000028)\n",
      "Epoch 047/051 | Loss 0.0070 | Win/lose count 20.5/11.399999999999979 (9.100000000000021)\n",
      "Epoch 048/051 | Loss 0.0099 | Win/lose count 17.0/13.499999999999972 (3.5000000000000284)\n",
      "Epoch 049/051 | Loss 0.0073 | Win/lose count 23.5/11.699999999999974 (11.800000000000026)\n",
      "Epoch 050/051 | Loss 0.0234 | Win/lose count 13.0/15.399999999999963 (-2.399999999999963)\n"
     ]
    },
    {
     "data": {
      "text/html": [
       "<video alt=\"test\" controls>\n",
       "                <source src=\"data:video/mp4;base64,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\" type=\"video/mp4\" />\n",
       "             </video>"
      ],
      "text/plain": [
       "<IPython.core.display.HTML object>"
      ]
     },
     "execution_count": 19,
     "metadata": {
      "tags": []
     },
     "output_type": "execute_result"
    }
   ],
   "source": [
    "# Training\n",
    "env = EnvironmentExploring(grid_size=size, max_time=T, temperature=0.3)\n",
    "agent = DQN_CNN(size, lr=.1, epsilon = 0.1, memory_size=2000, batch_size = 32, n_state=3)\n",
    "train_explore(agent, env, epochs_train, epsilon_decay = 0.9, prefix='cnn_train_explore')\n",
    "HTML(display_videos('cnn_train_explore10.mp4'))"
   ]
  },
  {
   "cell_type": "code",
   "execution_count": 20,
   "metadata": {
    "colab": {
     "base_uri": "https://localhost:8080/",
     "height": 497
    },
    "colab_type": "code",
    "id": "ITVukimo1kpL",
    "outputId": "94c09d6f-786b-43df-eca7-fbdd5e8e4536"
   },
   "outputs": [
    {
     "name": "stdout",
     "output_type": "stream",
     "text": [
      "Win/lose count 20.0/3.0. Average score (17.0)\n",
      "Win/lose count 17.5/2.0. Average score (16.25)\n",
      "Win/lose count 17.5/1.0. Average score (16.333333333333332)\n",
      "Win/lose count 12.0/0. Average score (15.25)\n",
      "Win/lose count 1.5/0. Average score (12.5)\n",
      "Win/lose count 8.5/0. Average score (11.833333333333334)\n",
      "Win/lose count 13.0/2.0. Average score (11.714285714285714)\n",
      "Win/lose count 10.0/0. Average score (11.5)\n",
      "Win/lose count 18.5/3.0. Average score (11.944444444444445)\n",
      "Win/lose count 8.5/1.0. Average score (11.5)\n",
      "Win/lose count 18.0/1.0. Average score (12.0)\n",
      "Final score: 12.0\n"
     ]
    },
    {
     "data": {
      "text/html": [
       "<video alt=\"test\" controls>\n",
       "                <source src=\"data:video/mp4;base64,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\" type=\"video/mp4\" />\n",
       "             </video>"
      ],
      "text/plain": [
       "<IPython.core.display.HTML object>"
      ]
     },
     "execution_count": 20,
     "metadata": {
      "tags": []
     },
     "output_type": "execute_result"
    }
   ],
   "source": [
    "# Evaluation\n",
    "test(agent,env,epochs_test,prefix='cnn_test_explore')\n",
    "HTML(display_videos('cnn_test_explore10.mp4'))"
   ]
  },
  {
   "cell_type": "markdown",
   "metadata": {
    "colab_type": "text",
    "id": "SjDEXZY31kpj"
   },
   "source": [
    "***\n",
    "***\n",
    "__BONUS question__ Use the expert DQN from the previous question to generate some winning games. Train a model that mimicks its behavior. Compare the performances."
   ]
  },
  {
   "cell_type": "markdown",
   "metadata": {
    "colab_type": "text",
    "id": "mrW5zxG5IPAh"
   },
   "source": [
    "The performance of the expert DQN is the best among all models.\n",
    "\n",
    "| Model | Score |\n",
    "| --- | --- |\n",
    "| Expert DQN | 12.0 |\n",
    "| Mimic DQN | 5.23 |\n",
    "| DQN_CNN | 4.54 |\n",
    "| DQN_FC | -0.32 |"
   ]
  },
  {
   "cell_type": "code",
   "execution_count": 21,
   "metadata": {
    "colab": {},
    "colab_type": "code",
    "id": "cEnFMPn9ntEO"
   },
   "outputs": [],
   "source": [
    "def generate_winning_games(agent, env, n):\n",
    "    memory = Memory(n*(env.max_time+1))\n",
    "    winning_games = 0\n",
    "    while winning_games < n:\n",
    "        state = env.reset()\n",
    "        game_over = False\n",
    "        m_list = list()\n",
    "        total_reward = 0    \n",
    "        while not game_over:\n",
    "            action = agent.act(state)\n",
    "            prev_state = state\n",
    "            state, reward, game_over = env.act(action)\n",
    "            total_reward += reward\n",
    "            m_list.append([prev_state, state, action, reward, game_over])\n",
    "        if total_reward > 0:\n",
    "            winning_games += 1\n",
    "            for m in m_list:\n",
    "                memory.remember(m)\n",
    "    return memory\n",
    "\n",
    "class DQN_CNN_MIMIC(DQN_CNN):\n",
    "    def __init__(self, *args, memory,**kwargs):\n",
    "        super(DQN_CNN_MIMIC, self).__init__(*args,**kwargs)\n",
    "        self.memory = memory\n",
    "\n",
    "    def reinforce(self, s_, n_s_, a_, r_, game_over_):\n",
    "        input_states = np.zeros((self.batch_size, 5, 5, self.n_state))\n",
    "        target_q = np.zeros((self.batch_size, 4))\n",
    "        \n",
    "        for i in range(self.batch_size):\n",
    "            s_i, n_s_i, a_i, r_i, game_over_i = self.memory.random_access()\n",
    "            input_states[i] = s_i\n",
    "            target_q[i] = self.model.predict(s_i[np.newaxis])\n",
    "            if game_over_i:\n",
    "                target_q[i, a_i] = r_i\n",
    "            else:\n",
    "                target_q[i, a_i] = r_i + self.discount * np.max(self.model.predict(n_s_i[np.newaxis]))\n",
    "\n",
    "        target_q = np.clip(target_q, -3, 3)\n",
    "\n",
    "        l = self.model.train_on_batch(input_states, target_q)\n",
    "\n",
    "        return l"
   ]
  },
  {
   "cell_type": "code",
   "execution_count": 22,
   "metadata": {
    "colab": {
     "base_uri": "https://localhost:8080/",
     "height": 1000
    },
    "colab_type": "code",
    "id": "M0RLahPcm1iD",
    "outputId": "9a7998dd-934c-43a7-9176-67abbf41a1eb"
   },
   "outputs": [
    {
     "name": "stdout",
     "output_type": "stream",
     "text": [
      "Epoch 000/051 | Loss 0.0061 | Win/lose count 6.0/22.39999999999999 (-16.39999999999999)\n",
      "Epoch 001/051 | Loss 0.0632 | Win/lose count 9.0/21.700000000000053 (-12.700000000000053)\n",
      "Epoch 002/051 | Loss 0.0053 | Win/lose count 11.5/19.100000000000012 (-7.600000000000012)\n",
      "Epoch 003/051 | Loss 0.0040 | Win/lose count 5.0/21.50000000000004 (-16.50000000000004)\n",
      "Epoch 004/051 | Loss 0.0007 | Win/lose count 5.0/19.400000000000013 (-14.400000000000013)\n",
      "Epoch 005/051 | Loss 0.0007 | Win/lose count 9.0/20.600000000000023 (-11.600000000000023)\n",
      "Epoch 006/051 | Loss 0.0045 | Win/lose count 12.0/18.099999999999994 (-6.099999999999994)\n",
      "Epoch 007/051 | Loss 0.0003 | Win/lose count 1.5/18.799999999999997 (-17.299999999999997)\n",
      "Epoch 008/051 | Loss 0.1244 | Win/lose count 12.0/16.899999999999977 (-4.899999999999977)\n",
      "Epoch 009/051 | Loss 0.0008 | Win/lose count 7.0/17.69999999999998 (-10.699999999999982)\n",
      "Epoch 010/051 | Loss 0.0010 | Win/lose count 7.5/19.5 (-12.0)\n",
      "Epoch 011/051 | Loss 0.0619 | Win/lose count 9.5/17.89999999999999 (-8.399999999999991)\n",
      "Epoch 012/051 | Loss 0.0009 | Win/lose count 9.0/17.699999999999985 (-8.699999999999985)\n",
      "Epoch 013/051 | Loss 0.0010 | Win/lose count 5.0/19.700000000000017 (-14.700000000000017)\n",
      "Epoch 014/051 | Loss 0.0049 | Win/lose count 5.0/19.900000000000016 (-14.900000000000016)\n",
      "Epoch 015/051 | Loss 0.0586 | Win/lose count 1.5/20.700000000000024 (-19.200000000000024)\n",
      "Epoch 016/051 | Loss 0.0014 | Win/lose count 5.0/20.600000000000012 (-15.600000000000012)\n",
      "Epoch 017/051 | Loss 0.0009 | Win/lose count 7.0/22.100000000000044 (-15.100000000000044)\n",
      "Epoch 018/051 | Loss 0.0011 | Win/lose count 11.0/19.700000000000024 (-8.700000000000024)\n",
      "Epoch 019/051 | Loss 0.0007 | Win/lose count 7.0/18.69999999999998 (-11.699999999999982)\n",
      "Epoch 020/051 | Loss 0.0008 | Win/lose count 13.5/17.299999999999986 (-3.7999999999999865)\n",
      "Epoch 021/051 | Loss 0.1206 | Win/lose count 12.5/17.499999999999982 (-4.999999999999982)\n",
      "Epoch 022/051 | Loss 0.0034 | Win/lose count 8.5/15.399999999999961 (-6.899999999999961)\n",
      "Epoch 023/051 | Loss 0.0008 | Win/lose count 8.0/19.7 (-11.7)\n",
      "Epoch 024/051 | Loss 0.0604 | Win/lose count 9.0/18.900000000000006 (-9.900000000000006)\n",
      "Epoch 025/051 | Loss 0.0004 | Win/lose count 3.0/19.5 (-16.5)\n",
      "Epoch 026/051 | Loss 0.0020 | Win/lose count 16.5/15.399999999999968 (1.1000000000000316)\n",
      "Epoch 027/051 | Loss 0.0011 | Win/lose count 7.5/16.09999999999996 (-8.599999999999959)\n",
      "Epoch 028/051 | Loss 0.0594 | Win/lose count 7.0/18.499999999999996 (-11.499999999999996)\n",
      "Epoch 029/051 | Loss 0.0019 | Win/lose count 9.0/17.699999999999985 (-8.699999999999985)\n",
      "Epoch 030/051 | Loss 0.0032 | Win/lose count 14.5/19.399999999999988 (-4.899999999999988)\n",
      "Epoch 031/051 | Loss 0.0042 | Win/lose count 14.0/17.29999999999998 (-3.2999999999999794)\n",
      "Epoch 032/051 | Loss 0.0005 | Win/lose count 14.0/18.199999999999996 (-4.199999999999996)\n",
      "Epoch 033/051 | Loss 0.0007 | Win/lose count 8.0/17.199999999999978 (-9.199999999999978)\n",
      "Epoch 034/051 | Loss 0.0009 | Win/lose count 10.0/17.29999999999998 (-7.299999999999979)\n",
      "Epoch 035/051 | Loss 0.0007 | Win/lose count 8.0/18.3 (-10.3)\n",
      "Epoch 036/051 | Loss 0.0007 | Win/lose count 13.5/16.69999999999998 (-3.1999999999999815)\n",
      "Epoch 037/051 | Loss 0.0009 | Win/lose count 11.5/18.900000000000006 (-7.400000000000006)\n",
      "Epoch 038/051 | Loss 0.0031 | Win/lose count 12.0/17.099999999999977 (-5.0999999999999766)\n",
      "Epoch 039/051 | Loss 0.0031 | Win/lose count 12.0/15.499999999999961 (-3.499999999999961)\n",
      "Epoch 040/051 | Loss 0.0018 | Win/lose count 11.5/16.799999999999972 (-5.299999999999972)\n",
      "Epoch 041/051 | Loss 0.0007 | Win/lose count 10.5/19.50000000000001 (-9.00000000000001)\n",
      "Epoch 042/051 | Loss 0.0011 | Win/lose count 11.0/15.89999999999996 (-4.8999999999999595)\n",
      "Epoch 043/051 | Loss 0.0022 | Win/lose count 6.0/20.700000000000014 (-14.700000000000014)\n",
      "Epoch 044/051 | Loss 0.0006 | Win/lose count 7.0/19.60000000000002 (-12.60000000000002)\n",
      "Epoch 045/051 | Loss 0.0005 | Win/lose count 15.0/15.799999999999963 (-0.7999999999999634)\n",
      "Epoch 046/051 | Loss 0.0005 | Win/lose count 16.0/17.499999999999986 (-1.4999999999999858)\n",
      "Epoch 047/051 | Loss 0.0007 | Win/lose count 7.5/18.900000000000006 (-11.400000000000006)\n",
      "Epoch 048/051 | Loss 0.0652 | Win/lose count 9.0/15.99999999999996 (-6.999999999999959)\n",
      "Epoch 049/051 | Loss 0.0026 | Win/lose count 8.5/18.199999999999996 (-9.699999999999996)\n",
      "Epoch 050/051 | Loss 0.0016 | Win/lose count 10.5/19.199999999999992 (-8.699999999999992)\n"
     ]
    },
    {
     "data": {
      "text/html": [
       "<video alt=\"test\" controls>\n",
       "                <source src=\"data:video/mp4;base64,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\" type=\"video/mp4\" />\n",
       "             </video>"
      ],
      "text/plain": [
       "<IPython.core.display.HTML object>"
      ]
     },
     "execution_count": 22,
     "metadata": {
      "tags": []
     },
     "output_type": "execute_result"
    }
   ],
   "source": [
    "# Training\n",
    "env = EnvironmentExploring(grid_size=size, max_time=T, temperature=0.3)\n",
    "win_memory = generate_winning_games(agent, env, 10)\n",
    "mimic_agent = DQN_CNN_MIMIC(size, lr=.1, epsilon = 0.1, memory=win_memory, batch_size = 32, n_state=3)\n",
    "train_explore(mimic_agent, env, epochs_train, epsilon_decay = 1, prefix='cnn_train_explore_mimic')\n",
    "HTML(display_videos('cnn_train_explore_mimic50.mp4'))"
   ]
  },
  {
   "cell_type": "code",
   "execution_count": 23,
   "metadata": {
    "colab": {
     "base_uri": "https://localhost:8080/",
     "height": 497
    },
    "colab_type": "code",
    "id": "eFLBb8uLnggh",
    "outputId": "2962580d-ef7d-4759-f8d5-ef0f8a9d6491"
   },
   "outputs": [
    {
     "name": "stdout",
     "output_type": "stream",
     "text": [
      "Win/lose count 12.0/4.0. Average score (8.0)\n",
      "Win/lose count 8.0/4.0. Average score (6.0)\n",
      "Win/lose count 17.5/2.0. Average score (9.166666666666666)\n",
      "Win/lose count 4.0/2.0. Average score (7.375)\n",
      "Win/lose count 5.5/0. Average score (7.0)\n",
      "Win/lose count 9.0/3.0. Average score (6.833333333333333)\n",
      "Win/lose count 5.5/3.0. Average score (6.214285714285714)\n",
      "Win/lose count 11.5/6.0. Average score (6.125)\n",
      "Win/lose count 10.5/4.0. Average score (6.166666666666667)\n",
      "Win/lose count 3.0/5.0. Average score (5.35)\n",
      "Win/lose count 5.0/1.0. Average score (5.2272727272727275)\n",
      "Final score: 5.2272727272727275\n"
     ]
    },
    {
     "data": {
      "text/html": [
       "<video alt=\"test\" controls>\n",
       "                <source src=\"data:video/mp4;base64,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\" type=\"video/mp4\" />\n",
       "             </video>"
      ],
      "text/plain": [
       "<IPython.core.display.HTML object>"
      ]
     },
     "execution_count": 23,
     "metadata": {
      "tags": []
     },
     "output_type": "execute_result"
    }
   ],
   "source": [
    "# Evaluation\n",
    "test(mimic_agent,env,epochs_test,prefix='cnn_test_explore_mimic')\n",
    "HTML(display_videos('cnn_test_explore_mimic10.mp4'))"
   ]
  },
  {
   "cell_type": "markdown",
   "metadata": {
    "colab_type": "text",
    "id": "nUlOeHlg1kpx"
   },
   "source": [
    "***"
   ]
  }
 ],
 "metadata": {
  "accelerator": "GPU",
  "colab": {
   "name": "DQN_project_MVA.ipynb",
   "provenance": [],
   "toc_visible": true
  },
  "kernelspec": {
   "display_name": "Python 3",
   "language": "python",
   "name": "python3"
  },
  "language_info": {
   "codemirror_mode": {
    "name": "ipython",
    "version": 3
   },
   "file_extension": ".py",
   "mimetype": "text/x-python",
   "name": "python",
   "nbconvert_exporter": "python",
   "pygments_lexer": "ipython3",
   "version": "3.7.4"
  }
 },
 "nbformat": 4,
 "nbformat_minor": 1
}
